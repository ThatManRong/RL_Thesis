{
  "nbformat": 4,
  "nbformat_minor": 0,
  "metadata": {
    "colab": {
      "name": "Real Data RL.ipynb",
      "provenance": [],
      "authorship_tag": "ABX9TyOejmKdg4pA0HfuUjIECrVT",
      "include_colab_link": true
    },
    "kernelspec": {
      "name": "python3",
      "display_name": "Python 3"
    }
  },
  "cells": [
    {
      "cell_type": "markdown",
      "metadata": {
        "id": "view-in-github",
        "colab_type": "text"
      },
      "source": [
        "<a href=\"https://colab.research.google.com/github/ThatManRong/RL_Thesis/blob/main/AAPL_Data_RL_HeatMap_Jan18.ipynb\" target=\"_parent\"><img src=\"https://colab.research.google.com/assets/colab-badge.svg\" alt=\"Open In Colab\"/></a>"
      ]
    },
    {
      "cell_type": "markdown",
      "metadata": {
        "id": "JZkLPaSuSD1q"
      },
      "source": [
        "#Read Data"
      ]
    },
    {
      "cell_type": "code",
      "metadata": {
        "colab": {
          "base_uri": "https://localhost:8080/"
        },
        "id": "tITBjMiQ7jdZ",
        "outputId": "1f0eab46-e0d9-4647-8b8e-2ff865ba7e95"
      },
      "source": [
        "from google.colab import drive\n",
        "drive.mount('/content/drive')\n"
      ],
      "execution_count": 59,
      "outputs": [
        {
          "output_type": "stream",
          "text": [
            "Drive already mounted at /content/drive; to attempt to forcibly remount, call drive.mount(\"/content/drive\", force_remount=True).\n"
          ],
          "name": "stdout"
        }
      ]
    },
    {
      "cell_type": "code",
      "metadata": {
        "id": "-bMdGKHZ8QME"
      },
      "source": [
        "from scipy.io import loadmat\n",
        "import math\n",
        "import statistics\n",
        "import os\n",
        "\n",
        "dataDir = '/content/drive/My Drive/Colab Notebooks/AAL/'\n",
        "mats = []\n",
        "for file in os.listdir( dataDir ) :\n",
        "    mats.append(loadmat( dataDir+file ) )\n",
        "\n",
        "#master_file_midprice = [0 for i in range(len(mat[i])*len(mats))]\n",
        "\n",
        "# count = 0\n",
        "# for i in range(len(mats)):\n",
        "\n",
        "#   lob = mats[i]['LOB']\n",
        "#   SellPrice = lob['SellPrice']\n",
        "#   BuyPrice = lob['BuyPrice']\n",
        "#   for j in range(234000):\n",
        "#     master_file_midprice[count+j] = (sum(SellPrice[0][0][j]) + sum(BuyPrice[0][0][j]))/(2*20)\n",
        "#   count = count + 234000"
      ],
      "execution_count": 60,
      "outputs": []
    },
    {
      "cell_type": "code",
      "metadata": {
        "id": "BYjeV6AG9c6M"
      },
      "source": [
        "import numpy as np\n",
        "master_BuyPrice = []\n",
        "master_SellPrice = []\n",
        "master_NumberBuyOrder = []\n",
        "master_NumberSellOrder = []\n",
        "master_VolumeMO = []\n",
        "master_BuyVolume = []\n",
        "master_SellVolume = []\n",
        "master_NumberMO = []\n",
        "#master_time = []\n",
        "for i in range(len(mats)):\n",
        "  #master_time.append(np.array(mats[i]['data']['EventTime'][0][0]))\n",
        "  master_BuyPrice.append(np.array(mats[i]['data']['BuyPrice'][0][0]))\n",
        "  master_SellPrice.append(np.array(mats[i]['data']['SellPrice'][0][0]))\n",
        "  master_NumberBuyOrder.append(np.array(mats[i]['data']['NumberMO'][0][0][0]))   #Buy order\n",
        "  master_NumberSellOrder.append(np.array(mats[i]['data']['NumberMO'][0][0][1]))   #Sell order\n",
        "  master_NumberMO.append(np.array(mats[i]['data']['NumberMO'][0][0]))\n",
        "  master_VolumeMO.append(np.array(mats[i]['data']['VolumeMO'][0][0]))\n",
        "  master_BuyVolume.append(np.array(mats[i]['data']['BuyVolume'][0][0]))\n",
        "  master_SellVolume.append(np.array(mats[i]['data']['SellVolume'][0][0]))\n",
        "#sellVolume = np.array(mats[i]['data']['SellVolume'][0][0])"
      ],
      "execution_count": 61,
      "outputs": []
    },
    {
      "cell_type": "code",
      "metadata": {
        "id": "s3xUK6x3XfFD"
      },
      "source": [
        "def clear_master(master):\n",
        "  result = master\n",
        "  for i in range(len(master)):\n",
        "    if len(master[i]) != 23400:\n",
        "      print(len(master[i]))\n",
        "      del result[i]\n",
        "  return result"
      ],
      "execution_count": 62,
      "outputs": []
    },
    {
      "cell_type": "code",
      "metadata": {
        "id": "5x3W8WTqf6iI"
      },
      "source": [
        "abc = clear_master(master_BuyPrice)\n",
        "abc = clear_master(master_SellPrice)\n",
        "abc = clear_master(master_NumberMO)\n",
        "abc = clear_master(master_BuyVolume)\n",
        "abc = clear_master(master_SellVolume)"
      ],
      "execution_count": 68,
      "outputs": []
    },
    {
      "cell_type": "code",
      "metadata": {
        "id": "tr9Bky54-CNd"
      },
      "source": [
        "def flatten_master(master, price_indicator):\n",
        "  if price_indicator == True:\n",
        "    result = []\n",
        "    for i in range(len(master)):\n",
        "      #print('Percent Done: ', i/len(master))\n",
        "      for j in range(len(master[0])-1):\n",
        "        #for k in range(len(master[0][0])):\n",
        "        result.append((master[i][j][0]-master[i][0][0])/10000)   #Price difference between spot price and price of the beginning. \n",
        "  if price_indicator == False:\n",
        "    result = []\n",
        "    for i in range(len(master)):\n",
        "      for j in range(len(master[0])-1):\n",
        "        #for k in range(len(master[0][0])):\n",
        "        result.append(master[i][j][0])\n",
        "  return result"
      ],
      "execution_count": 69,
      "outputs": []
    },
    {
      "cell_type": "code",
      "metadata": {
        "id": "ClDctNE4YRDJ"
      },
      "source": [
        "flattened_BuyPrice = flatten_master(clear_master(master_BuyPrice), price_indicator = True) \n",
        "flattened_SellPrice = flatten_master(master_SellPrice, price_indicator = True) \n",
        "flattened_NumberBuyOrder = flatten_master(clear_master(master_NumberMO), price_indicator = False) \n",
        "flattened_NumberBuyVolume = flatten_master(clear_master(master_BuyVolume), price_indicator = False) \n",
        "flattened_NumberSellVolume = flatten_master(clear_master(master_SellVolume), price_indicator = False) "
      ],
      "execution_count": 70,
      "outputs": []
    },
    {
      "cell_type": "code",
      "metadata": {
        "id": "-po0pxZSh5bI",
        "colab": {
          "base_uri": "https://localhost:8080/"
        },
        "outputId": "5812dadd-fa36-46f0-ef2f-a8788c00ac52"
      },
      "source": [
        "print(len(master_BuyPrice))"
      ],
      "execution_count": 71,
      "outputs": [
        {
          "output_type": "stream",
          "text": [
            "248\n"
          ],
          "name": "stdout"
        }
      ]
    },
    {
      "cell_type": "code",
      "metadata": {
        "id": "XMilJE6Vg4TR"
      },
      "source": [
        "timestamp = []\n",
        "for i in range(len(clear_master(master_BuyPrice))):\n",
        "  for j in range(len(master_BuyPrice[0])-1):\n",
        "    timestamp.append(j)"
      ],
      "execution_count": 72,
      "outputs": []
    },
    {
      "cell_type": "code",
      "metadata": {
        "id": "RgZWmB89oOIu"
      },
      "source": [
        "print(len(timestamp))\n",
        "print(len(flattened_BuyPrice))\n",
        "print(len(flattened_SellPrice))\n",
        "print(len(flattened_NumberBuyOrder))\n",
        "print(len(flattened_NumberBuyVolume))"
      ],
      "execution_count": null,
      "outputs": []
    },
    {
      "cell_type": "code",
      "metadata": {
        "id": "28iHRMA6TS5S"
      },
      "source": [
        "flattened_MidPrice = []\n",
        "for i in range(len(flattened_BuyPrice)):\n",
        "  flattened_MidPrice.append(0.5*flattened_BuyPrice[i]+0.5*flattened_SellPrice[i])"
      ],
      "execution_count": 73,
      "outputs": []
    },
    {
      "cell_type": "code",
      "metadata": {
        "id": "FaOed9Bne3Lp"
      },
      "source": [
        "import pandas as pd\n",
        "data = {'Time': timestamp, \n",
        "        'BuyPrice': flattened_BuyPrice,\n",
        "        'SellPrice' : flattened_SellPrice,\n",
        "        #'NumberBuyOrder': flattened_NumberBuyOrder,\n",
        "        'BuyVolume': flattened_NumberBuyVolume,\n",
        "        'SellVolume': flattened_NumberSellVolume,\n",
        "        'MidPrice': flattened_MidPrice}\n",
        "  \n",
        "# Convert the dictionary into DataFrame \n",
        "data = pd.DataFrame(data) \n",
        "print(data)"
      ],
      "execution_count": null,
      "outputs": []
    },
    {
      "cell_type": "code",
      "metadata": {
        "id": "VzkQXB06rqZL"
      },
      "source": [
        "def normalize_0_1(flattened):\n",
        "  result = []\n",
        "  max = np.max(flattened)\n",
        "  min = np.min(flattened)\n",
        "  for elem in flattened:\n",
        "    result.append((elem - max)/(max-min))\n",
        "  return result\n",
        "\n",
        "def normalize_Z(flattened):\n",
        "  result = []\n",
        "  std = np.std(flattened)\n",
        "  mean = np.mean(flattened)\n",
        "  for elem in flattened:\n",
        "    result.append((elem - mean)/std)\n",
        "  return result"
      ],
      "execution_count": null,
      "outputs": []
    },
    {
      "cell_type": "code",
      "metadata": {
        "id": "70hrZH9asK6H"
      },
      "source": [
        "normalized_BuyPrice = normalize_0_1(flattened_BuyPrice)\n",
        "normalized_SellPrice = normalize_0_1(flattened_SellPrice)\n",
        "normalized_BuyVolume = normalize_0_1(flattened_NumberBuyVolume)\n",
        "normalized_SellVolume = normalize_0_1(flattened_NumberSellVolume)\n",
        "normalized_MidPrice = normalize_0_1(flattened_MidPrice)"
      ],
      "execution_count": null,
      "outputs": []
    },
    {
      "cell_type": "code",
      "metadata": {
        "id": "qiq9Ff2kss-5"
      },
      "source": [
        "import pandas as pd\n",
        "normalized_data = {'Time': timestamp, \n",
        "        'BuyPrice': normalized_BuyPrice,\n",
        "        'SellPrice' : normalized_SellPrice,\n",
        "        #'NumberBuyOrder': flattened_NumberBuyOrder,\n",
        "        'BuyVolume': normalized_BuyVolume,\n",
        "        'SellVolume': normalized_SellVolume,\n",
        "        'MidPrice': normalized_MidPrice}\n",
        "  \n",
        "# Convert the dictionary into DataFrame \n",
        "normalized_data = pd.DataFrame(normalized_data) \n",
        "print(normalized_data)"
      ],
      "execution_count": null,
      "outputs": []
    },
    {
      "cell_type": "code",
      "metadata": {
        "id": "RGq0uQpLtGs0"
      },
      "source": [
        "normalized_BuyPrice = normalize_Z(flattened_BuyPrice)\n",
        "normalized_SellPrice = normalize_Z(flattened_SellPrice)\n",
        "normalized_BuyVolume = normalize_Z(flattened_NumberBuyVolume)\n",
        "normalized_SellVolume = normalize_Z(flattened_NumberSellVolume)\n",
        "normalized_MidPrice = normalize_Z(flattened_MidPrice)"
      ],
      "execution_count": null,
      "outputs": []
    },
    {
      "cell_type": "code",
      "metadata": {
        "id": "RHhQZVwOtLHQ"
      },
      "source": [
        "import pandas as pd\n",
        "normalized_data = {'Time': timestamp, \n",
        "        # 'BuyPrice': normalized_BuyPrice,\n",
        "        # 'SellPrice' : normalized_SellPrice,\n",
        "        #'NumberBuyOrder': flattened_NumberBuyOrder,\n",
        "        'BuyVolume': normalized_BuyVolume,\n",
        "        'SellVolume': normalized_SellVolume,\n",
        "        'MidPrice': normalized_MidPrice}\n",
        "  \n",
        "# Convert the dictionary into DataFrame \n",
        "normalized_data = pd.DataFrame(normalized_data) \n",
        "print(normalized_data)"
      ],
      "execution_count": null,
      "outputs": []
    },
    {
      "cell_type": "code",
      "metadata": {
        "id": "s04pJix6j1oB"
      },
      "source": [
        "import matplotlib.pyplot as plt\n",
        "\n",
        "plt.hist(normalized_MidPrice, color = 'blue', edgecolor = 'black',\n",
        "         bins = 20)"
      ],
      "execution_count": null,
      "outputs": []
    },
    {
      "cell_type": "code",
      "metadata": {
        "id": "uIAwJJZyVTWS"
      },
      "source": [
        "split_ratio = 0.8 #80% as train set. \n",
        "split_point = int(251*0.8)*23400\n",
        "train_data = normalized_data[:split_point]\n",
        "test_data = normalized_data[split_point:]\n",
        "len(train_data),len(test_data)"
      ],
      "execution_count": null,
      "outputs": []
    },
    {
      "cell_type": "code",
      "metadata": {
        "id": "TzV9ItV8lCIp"
      },
      "source": [
        "def reduce_outlier_effect(df):\n",
        "  temp = df\n",
        "  temp.loc[temp[\"BuyVolume\"] > 3, \"BuyVolume\"] = 3.0\n",
        "  temp.loc[temp[\"BuyVolume\"] < -3, \"BuyVolume\"] = -3.0\n",
        "  temp.loc[temp[\"SellVolume\"] > 3, \"SellVolume\"] = 3.0\n",
        "  temp.loc[temp[\"SellVolume\"] < -3, \"SellVolume\"] = -3.0\n",
        "  temp.loc[temp[\"MidPrice\"] > 3, \"MidPrice\"] = 3.0\n",
        "  temp.loc[temp[\"MidPrice\"] < -3, \"MidPrice\"] = -3.0\n",
        "  return temp\n",
        "\n",
        "def split_into_days(df,timestamp):\n",
        "  days = []\n",
        "  record = 0\n",
        "  for i in range(len(timestamp)-1):\n",
        "    if timestamp[i]>timestamp[i+1]:\n",
        "      days.append(df.iloc[record:i+1])\n",
        "      record = i+1\n",
        "  return days\n",
        "      \n"
      ],
      "execution_count": null,
      "outputs": []
    },
    {
      "cell_type": "code",
      "metadata": {
        "id": "N61slw13ksJM"
      },
      "source": [
        "normalized_data = reduce_outlier_effect(normalized_data)\n",
        "# normalized_data"
      ],
      "execution_count": null,
      "outputs": []
    },
    {
      "cell_type": "code",
      "metadata": {
        "id": "v-jj0P8To3pz"
      },
      "source": [
        "splitted_normalized_data = split_into_days(normalized_data,timestamp)"
      ],
      "execution_count": null,
      "outputs": []
    },
    {
      "cell_type": "code",
      "metadata": {
        "id": "tAiaaODmlgjE"
      },
      "source": [
        "print(len(splitted_normalized_data))"
      ],
      "execution_count": null,
      "outputs": []
    },
    {
      "cell_type": "code",
      "metadata": {
        "id": "Pp8UBx5BtyXb"
      },
      "source": [
        "print(list(splitted_normalized_data[0]['BuyVolume']))"
      ],
      "execution_count": null,
      "outputs": []
    },
    {
      "cell_type": "markdown",
      "metadata": {
        "id": "XK9bx0RgqScK"
      },
      "source": [
        "#Pooling\n",
        "\n",
        "Use average pooling to reduce length of time series. "
      ]
    },
    {
      "cell_type": "code",
      "metadata": {
        "id": "uWSVMd7DqbtL"
      },
      "source": [
        "def pooling(df, pooling_factor):\n",
        "  temp = df.iloc[len(df)%pooling_factor:]\n",
        "  pooled_BuyVolume = []\n",
        "  pooled_SellVolume = []\n",
        "  pooled_MidPrice = []\n",
        "  pooled_timestamp = []\n",
        "  for i in range(int(len(temp)/pooling_factor)-1):\n",
        "    pooled_BuyVolume.append(np.mean(list(df['BuyVolume'])[i*pooling_factor:(i+1)*pooling_factor]))\n",
        "    pooled_SellVolume.append(np.mean(list(df['SellVolume'])[i*pooling_factor:(i+1)*pooling_factor]))\n",
        "    pooled_MidPrice.append(np.mean(list(df['MidPrice'])[i*pooling_factor:(i+1)*pooling_factor]))\n",
        "    pooled_timestamp.append(i)\n",
        "  \n",
        "  result = {'Time': pooled_timestamp, \n",
        "        #'BuyPrice': normalized_BuyPrice,\n",
        "        #'SellPrice' : normalized_SellPrice,\n",
        "        #'NumberBuyOrder': flattened_NumberBuyOrder,\n",
        "        'BuyVolume': pooled_BuyVolume,\n",
        "        'SellVolume': pooled_SellVolume,\n",
        "        'MidPrice': pooled_MidPrice}\n",
        "  result = pd.DataFrame(result) \n",
        "\n",
        "  return result\n",
        "\n",
        "    "
      ],
      "execution_count": 74,
      "outputs": []
    },
    {
      "cell_type": "code",
      "metadata": {
        "id": "GoUhxGbvushb"
      },
      "source": [
        "something = pooling(splitted_normalized_data[0],10)"
      ],
      "execution_count": null,
      "outputs": []
    },
    {
      "cell_type": "code",
      "metadata": {
        "id": "5TIN2pC6u4GJ"
      },
      "source": [
        "pooled_splitted_normalized_data = []\n",
        "for dataset in splitted_normalized_data:\n",
        "  pooled_splitted_normalized_data.append(pooling(dataset,10))"
      ],
      "execution_count": null,
      "outputs": []
    },
    {
      "cell_type": "markdown",
      "metadata": {
        "id": "re5IMeqiRc4T"
      },
      "source": [
        "#CNN Autoencoder: \n",
        "\n",
        "Here I use CNN to encode input time series"
      ]
    },
    {
      "cell_type": "code",
      "metadata": {
        "id": "RnThtfHPpwx2"
      },
      "source": [
        "from keras.layers import Input, Dense, Conv1D, MaxPooling1D, UpSampling1D, BatchNormalization, LSTM, RepeatVector\n",
        "from keras.models import Model\n",
        "from keras.models import model_from_json\n",
        "from keras import regularizers\n",
        "import datetime\n",
        "import time\n",
        "import requests as req\n",
        "import json\n",
        "import pandas as pd\n",
        "import pickle\n",
        "import os\n",
        "import numpy as np\n",
        "from sklearn.preprocessing import MinMaxScaler\n",
        "from tqdm import tqdm\n",
        "from mpl_toolkits.mplot3d import Axes3D\n",
        "import matplotlib.pyplot as plt"
      ],
      "execution_count": null,
      "outputs": []
    },
    {
      "cell_type": "code",
      "metadata": {
        "id": "aHCTx64SxOsW"
      },
      "source": [
        "train_data_autoencoder = splitted_normalized_data[0]   #Use only 1 month of data for training autoencoder b/c memory crash. \n",
        "test_data_autoencoder = splitted_normalized_data[1]"
      ],
      "execution_count": null,
      "outputs": []
    },
    {
      "cell_type": "code",
      "metadata": {
        "id": "OVucuSqItsBe"
      },
      "source": [
        "#startdate=\"01/01/2015\"\n",
        "window_length = 23399\n",
        "encoding_dim = 10000\n",
        "epochs = 100\n",
        "test_samples = 2000"
      ],
      "execution_count": null,
      "outputs": []
    },
    {
      "cell_type": "code",
      "metadata": {
        "id": "USCEkCi7uMja"
      },
      "source": [
        "MidPrice_train = np.array([train_data_autoencoder['MidPrice'].values[i-window_length:i].reshape(-1, 1) for i in tqdm(range(window_length+1,len(train_data_autoencoder['MidPrice'])))])\n",
        "# BuyVolume_train = np.array([train_data_autoencoder['BuyVolume'].values[i-window_length:i].reshape(-1, 1) for i in tqdm(range(window_length+1,len(train_data_autoencoder['BuyVolume'])))])\n",
        "# SellVolume_train = np.array([train_data_autoencoder['SellVolume'].values[i-window_length:i].reshape(-1, 1) for i in tqdm(range(window_length+1,len(train_data_autoencoder['SellVolume'])))])\n",
        "MidPrice_test = np.array([test_data_autoencoder['MidPrice'].values[i-window_length:i].reshape(-1, 1) for i in tqdm(range(window_length+1,len(test_data_autoencoder['MidPrice'])))])\n",
        "# BuyVolume_test = np.array([test_data_autoencoder['BuyVolume'].values[i-window_length:i].reshape(-1, 1) for i in tqdm(range(window_length+1,len(test_data_autoencoder['BuyVolume'])))])\n",
        "# SellVolume_test = np.array([test_data_autoencoder['SellVolume'].values[i-window_length:i].reshape(-1, 1) for i in tqdm(range(window_length+1,len(test_data_autoencoder['SellVolume'])))])"
      ],
      "execution_count": null,
      "outputs": []
    },
    {
      "cell_type": "code",
      "metadata": {
        "id": "AAFR1-Skolc2"
      },
      "source": [
        "# input_window = Input(shape=(window_length,1))\n",
        "# x = Conv1D(16, 20, activation=\"relu\", padding=\"same\")(input_window) # 10 dims\n",
        "# #x = BatchNormalization()(x)\n",
        "# x = MaxPooling1D(2, padding=\"same\")(x) # 5 dims\n",
        "# x = Conv1D(1, 20, activation=\"relu\", padding=\"same\")(x) # 5 dims\n",
        "# #x = BatchNormalization()(x)\n",
        "# encoded = MaxPooling1D(2, padding=\"same\")(x) # 3 dims\n",
        "\n",
        "# encoder = Model(input_window, encoded)\n",
        "\n",
        "# # 3 dimensions in the encoded layer\n",
        "\n",
        "# x = Conv1D(1, 10000, activation=\"relu\", padding=\"same\")(encoded) # 3 dims\n",
        "# #x = BatchNormalization()(x)\n",
        "# x = UpSampling1D(2)(x) # 6 dims\n",
        "# x = Conv1D(16, 50, activation='relu')(x) # 5 dims\n",
        "# #x = BatchNormalization()(x)\n",
        "# x = UpSampling1D(2)(x) # 10 dims\n",
        "# decoded = Conv1D(1, 50, activation='sigmoid', padding='same')(x) # 10 dims\n",
        "# autoencoder = Model(input_window, decoded)\n",
        "# autoencoder.summary()\n",
        "\n",
        "# autoencoder.compile(optimizer='adam', loss='binary_crossentropy')\n",
        "# history = autoencoder.fit(train_data_autoencoder, train_data_autoencoder,\n",
        "#                 epochs=epochs,\n",
        "#                 batch_size=1,\n",
        "#                 shuffle=True,\n",
        "#                 validation_data=(test_data_autoencoder, test_data_autoencoder))\n",
        "\n",
        "# decoded_stocks = autoencoder.predict(test_data_autoencoder)"
      ],
      "execution_count": null,
      "outputs": []
    },
    {
      "cell_type": "code",
      "metadata": {
        "id": "HjHTCBE5zTCj"
      },
      "source": [
        "x_train_deep = MidPrice_train.reshape((len(MidPrice_train), int(np.prod(MidPrice_train.shape[1:]))))\n",
        "x_test_deep = MidPrice_test.reshape((len(MidPrice_test), int(np.prod(MidPrice_test.shape[1:]))))\n",
        "\n",
        "input_window = Input(shape=(window_length,))\n",
        "\n",
        "x = Dense(15000, activation='relu')(input_window)\n",
        "x = BatchNormalization()(x)\n",
        "encoded = Dense(encoding_dim, activation='relu')(x)\n",
        "# \"decoded\" is the lossy reconstruction of the input\n",
        "\n",
        "x = Dense(15000, activation='relu')(encoded)\n",
        "x = BatchNormalization()(x)\n",
        "decoded = Dense(window_length, activation='sigmoid')(x)\n",
        "\n",
        "# this model maps an input to its reconstruction\n",
        "autoencoder = Model(input_window, decoded)\n",
        "\n",
        "# this model maps an input to its encoded representation\n",
        "encoder = Model(input_window, encoded)\n",
        "\n",
        "autoencoder.summary()\n",
        "\n",
        "autoencoder.compile(optimizer='adam', loss='binary_crossentropy')\n",
        "history = autoencoder.fit(x_train_deep, x_train_deep,\n",
        "                epochs=epochs,\n",
        "                batch_size=1024,\n",
        "                shuffle=True,\n",
        "                validation_data=(x_test_deep, x_test_deep))\n",
        "\n",
        "decoded_stocks = autoencoder.predict(x_test_deep)"
      ],
      "execution_count": null,
      "outputs": []
    },
    {
      "cell_type": "markdown",
      "metadata": {
        "id": "AAtBPqk3oM5P"
      },
      "source": [
        "#Training (With added feature)"
      ]
    },
    {
      "cell_type": "code",
      "metadata": {
        "id": "WuuHm-C9icHY"
      },
      "source": [
        "import numpy as np\n",
        "import matplotlib.pyplot as plt\n",
        "import time\n",
        "import copy\n",
        "import numpy as np\n",
        "import pandas as pd\n",
        "import torch\n",
        "import torch.nn as nn\n",
        "from torch.autograd import Variable\n",
        "import torch.optim as optim\n",
        "import torch.nn.functional as F\n",
        "from plotly import tools\n",
        "from plotly.graph_objs import *\n",
        "from plotly.offline import init_notebook_mode, iplot, iplot_mpl"
      ],
      "execution_count": null,
      "outputs": []
    },
    {
      "cell_type": "code",
      "metadata": {
        "id": "SxaWc5CjiZWr"
      },
      "source": [
        "fig = plt.figure(figsize=(10,5))\n",
        "plt.plot(flattened_MidPrice, linewidth=0.1)\n",
        "plt.xlabel('$t$')\n",
        "plt.ylabel('$Price$')\n",
        "fig.tight_layout()\n",
        "plt.show()"
      ],
      "execution_count": null,
      "outputs": []
    },
    {
      "cell_type": "code",
      "metadata": {
        "id": "A6uzNcXS2t5c"
      },
      "source": [
        "print(pooled_splitted_normalized_data[0])\n",
        "fig = plt.figure(figsize=(10,5))\n",
        "\n",
        "plt.plot(pooled_splitted_normalized_data[10]['MidPrice'], linewidth=1)\n"
      ],
      "execution_count": null,
      "outputs": []
    },
    {
      "cell_type": "code",
      "metadata": {
        "id": "phPgaz0FP-w7"
      },
      "source": [
        "class Environment2:\n",
        "    \n",
        "    def __init__(self, data, history_t = 10):\n",
        "        self.data = data    #State variables. \n",
        "        self.history_t = history_t\n",
        "        self.reset()\n",
        "        \n",
        "    def reset(self):\n",
        "        self.t = 0\n",
        "        self.done = False\n",
        "        self.profits = 0\n",
        "        self.positions = []\n",
        "        self.position_value = 0\n",
        "        self.history = [0 for _ in range(self.history_t)]\n",
        "        return [self.position_value] + self.history # obs\n",
        "    \n",
        "    def step(self, act):\n",
        "        reward = 0\n",
        "\n",
        "        # act = 0: sell, \n",
        "        #1: stay, \n",
        "        #2: buy\n",
        "        if (self.t + 1 ==len(self.data)-1):\n",
        "          act == 0\n",
        "        max_holding = 10\n",
        "        if act == 2:\n",
        "            if len(self.positions)>=max_holding:\n",
        "              reward = -1\n",
        "            else:\n",
        "              self.positions.append(self.data.iloc[self.t, :]['MidPrice'])\n",
        "        elif act == 0: # sell\n",
        "            if len(self.positions) == 0:\n",
        "                reward = -1\n",
        "            else:\n",
        "                profits = 0\n",
        "                for p in self.positions:\n",
        "                    profits += (self.data.iloc[self.t, :]['MidPrice'] - p)\n",
        "                reward += profits\n",
        "                self.profits += profits\n",
        "                self.positions = []\n",
        "\n",
        "        if len(self.positions)>=max_holding:\n",
        "          reward = -1\n",
        "        # set next time\n",
        "        self.t += 1\n",
        "        #print(self.t)\n",
        "        # if self.t == 49 and self.positions != [] and act != 2:\n",
        "        #   reward = -1\n",
        "        self.position_value = 0\n",
        "        for p in self.positions:\n",
        "            self.position_value += (self.data.iloc[self.t, :]['MidPrice'] - p)\n",
        "        self.history.pop(0)\n",
        "        self.history.append(self.data.iloc[self.t, :]['MidPrice'] - 0)\n",
        "        if (self.t==len(self.data)-1):\n",
        "            self.done=True\n",
        "            #self.positions = []\n",
        "            #act = 2   #Force selling at end of period\n",
        "\n",
        "        # if self.done and self.positions != []:\n",
        "        #   reward = -1\n",
        "        # clipping reward\n",
        "        if reward > 0:\n",
        "            reward = 1\n",
        "        elif reward < 0:\n",
        "            reward = -1\n",
        "        #print (\"t={%d}, done={%str}\"%(self.t,self.done))\n",
        "        #actual_action = act\n",
        "        return [self.position_value] + self.history, reward, self.done, self.positions # obs, reward, done"
      ],
      "execution_count": null,
      "outputs": []
    },
    {
      "cell_type": "code",
      "metadata": {
        "id": "ziE8ab-zT-nu"
      },
      "source": [
        "class Q_Network(nn.Module):\n",
        "        \n",
        "    def __init__(self,obs_len,hidden_size,actions_n):\n",
        "            \n",
        "        super(Q_Network,self).__init__()\n",
        "            \n",
        "        self.fc_val = nn.Sequential(\n",
        "            nn.Linear(obs_len, hidden_size),\n",
        "            nn.ReLU(),\n",
        "            nn.Linear(hidden_size, hidden_size),\n",
        "            nn.ReLU(),\n",
        "            nn.Linear(hidden_size, hidden_size),\n",
        "            nn.ReLU(),\n",
        "            nn.Linear(hidden_size, hidden_size),\n",
        "            nn.ReLU(),\n",
        "            nn.Linear(hidden_size, hidden_size),\n",
        "            nn.ReLU(),\n",
        "            nn.Linear(hidden_size, hidden_size),\n",
        "            nn.ReLU(),\n",
        "            nn.Linear(hidden_size, actions_n)\n",
        "        )\n",
        "        \n",
        "        \n",
        "    def forward(self,x):\n",
        "        h =  self.fc_val(x)\n",
        "        return (h)\n",
        "\n",
        "hidden_size=20\n",
        "input_size=11\n",
        "output_size=3\n",
        "USE_CUDA = False\n",
        "LR = 0.001\n",
        "Q = Q_Network(input_size, hidden_size, output_size)\n",
        "Q_ast = copy.deepcopy(Q)\n",
        "if USE_CUDA:\n",
        "    Q = Q.cuda()\n",
        "    print(\"using Cuda\")\n",
        "loss_function = nn.MSELoss()\n",
        "optimizer = optim.Adam(list(Q.parameters()), lr=LR)\n"
      ],
      "execution_count": null,
      "outputs": []
    },
    {
      "cell_type": "code",
      "metadata": {
        "id": "xJzZc9QGUimo"
      },
      "source": [
        "#epoch_num = 20\n",
        "memory_size = 40000\n",
        "batch_size = 2000\n",
        "#gamma = 0.99\n",
        "\n",
        "memory = []\n",
        "total_step = 0\n",
        "total_rewards = []\n",
        "total_losses = []\n",
        "epsilon = 1.0\n",
        "epsilon_decrease = 1e-3\n",
        "epsilon_min = 0.01\n",
        "start_reduce_epsilon = 200\n",
        "train_freq = 10\n",
        "update_q_freq = 20\n",
        "gamma = 0.999\n",
        "show_log_freq = 20\n",
        "repeat = 5"
      ],
      "execution_count": null,
      "outputs": []
    },
    {
      "cell_type": "code",
      "metadata": {
        "id": "GkOzKf4hWHj6"
      },
      "source": [
        "print(train_data.iloc[0:23400])"
      ],
      "execution_count": null,
      "outputs": []
    },
    {
      "cell_type": "code",
      "metadata": {
        "id": "ibg0OK4cnXUj"
      },
      "source": [
        ""
      ],
      "execution_count": null,
      "outputs": []
    },
    {
      "cell_type": "code",
      "metadata": {
        "id": "7mGDqRuAUsrj"
      },
      "source": [
        "master_reward = []\n",
        "#start = time.time()\n",
        "for epoch in range(200):\n",
        "    epoch_data = pooled_splitted_normalized_data[epoch]\n",
        "    print(\"Percentage done: \", 100*epoch/200)\n",
        "    #epoch_data = pd.DataFrame(epoch_data) \n",
        "    env = Environment2(epoch_data)\n",
        "    step_max = len(env.data)-1\n",
        "    for i in range(repeat):\n",
        "      pobs = env.reset()\n",
        "      step = 0\n",
        "      done = False\n",
        "      total_reward = 0\n",
        "      total_loss = 0\n",
        "      iterations = []\n",
        "      log_rewards = []\n",
        "      log_losses = []\n",
        "      iteration = 1\n",
        "      #trading_history = []\n",
        "      while not done and step < step_max:\n",
        "          #if done:\n",
        "          #  trading_history = []  #For pair trading, make sure the stock\n",
        "          # select action\n",
        "          pact = np.random.randint(3)\n",
        "          if np.random.rand() > epsilon:  #Epsilon greedy Exploration\n",
        "              pact = Q(torch.from_numpy(np.array(pobs, dtype=np.float32).reshape(1, -1)))\n",
        "              pact = np.argmax(pact.data)\n",
        "              pact = pact.numpy()\n",
        "          # if step == step_max - 1:\n",
        "          #   pact = 2\n",
        "          # act\n",
        "          obs, reward, done, inventory = env.step(pact)\n",
        "          #print(\"Step max is: \", step_max, \"Inventory is: \", inventory)\n",
        "          # if done is True:\n",
        "          #     print(\"action is: \", actual_action, \"  Reward is: \", reward, \"  Done? \", done)\n",
        "\n",
        "          # add memory\n",
        "          memory.append((pobs, pact, reward, obs, done))\n",
        "          #memory.append((pobs, actual_action, reward, obs, done))\n",
        "          if len(memory) > memory_size:\n",
        "              memory.pop(0)\n",
        "\n",
        "          # train or update q\n",
        "          if len(memory) == memory_size:\n",
        "              if total_step % train_freq == 0:\n",
        "                  shuffled_memory = np.random.permutation(memory)\n",
        "                  memory_idx = range(len(shuffled_memory))\n",
        "                  for i in memory_idx[::batch_size]:\n",
        "                      batch = np.array(shuffled_memory[i:i+batch_size])\n",
        "                      b_pobs = np.array(batch[:, 0].tolist(), dtype=np.float32).reshape(batch_size, -1)\n",
        "                      b_pact = np.array(batch[:, 1].tolist(), dtype=np.int32)\n",
        "                      b_reward = np.array(batch[:, 2].tolist(), dtype=np.int32)\n",
        "                      b_obs = np.array(batch[:, 3].tolist(), dtype=np.float32).reshape(batch_size, -1)\n",
        "                      b_done = np.array(batch[:, 4].tolist(), dtype=np.bool)\n",
        "\n",
        "                      q = Q(torch.from_numpy(b_pobs))\n",
        "                      q_ = Q_ast(torch.from_numpy(b_obs))\n",
        "                      maxq = np.max(q_.data.numpy(),axis=1)\n",
        "                      target = copy.deepcopy(q.data)\n",
        "                      for j in range(batch_size):\n",
        "                          target[j, b_pact[j]] = b_reward[j]+gamma*maxq[j]*(not b_done[j])\n",
        "                      Q.zero_grad()\n",
        "                      loss = loss_function(q, target)\n",
        "                      total_loss += loss.data.item()\n",
        "                      loss.backward()\n",
        "                      optimizer.step()\n",
        "                      \n",
        "              if total_step % update_q_freq == 0:\n",
        "                  Q_ast = copy.deepcopy(Q)\n",
        "                  \n",
        "              # epsilon\n",
        "              if epsilon > epsilon_min and total_step > start_reduce_epsilon:\n",
        "                  epsilon -= epsilon_decrease\n",
        "\n",
        "              # next step\n",
        "              total_reward += reward\n",
        "              pobs = obs\n",
        "              step += 1\n",
        "              total_step += 1\n",
        "\n",
        "          total_rewards.append(total_reward)\n",
        "          master_reward.append(total_rewards)\n",
        "          total_losses.append(total_loss)\n",
        "\n",
        "          if (epoch+1) % show_log_freq == 0:\n",
        "              \n",
        "              iterations.append(iteration)\n",
        "              iteration += 1\n",
        "              log_reward = sum(total_rewards[((epoch+1)-show_log_freq):])/show_log_freq\n",
        "              log_rewards.append(log_reward)\n",
        "              log_loss = sum(total_losses[((epoch+1)-show_log_freq):])/show_log_freq\n",
        "              log_losses.append(log_loss)\n",
        "              #elapsed_time = time.time()-start\n",
        "              print('\\t'.join(map(str, [epoch+1, epsilon, total_step, log_reward, log_loss])))\n",
        "              #start = time.time()"
      ],
      "execution_count": null,
      "outputs": []
    },
    {
      "cell_type": "markdown",
      "metadata": {
        "id": "4zkppRivkSxD"
      },
      "source": [
        "#Data Processing (Old State)"
      ]
    },
    {
      "cell_type": "code",
      "metadata": {
        "id": "mKSzt4NbkP46",
        "colab": {
          "base_uri": "https://localhost:8080/"
        },
        "outputId": "7ae8f0c3-0370-47eb-c74a-bd873a884c85"
      },
      "source": [
        "import pandas as pd\n",
        "data = {'Time': timestamp, \n",
        "        # 'BuyPrice': flattened_BuyPrice,\n",
        "        # 'SellPrice' : flattened_SellPrice,\n",
        "        # #'NumberBuyOrder': flattened_NumberBuyOrder,\n",
        "        # 'BuyVolume': flattened_NumberBuyVolume,\n",
        "        # 'SellVolume': flattened_NumberSellVolume,\n",
        "        'MidPrice': flattened_MidPrice}\n",
        "  \n",
        "# Convert the dictionary into DataFrame \n",
        "data = pd.DataFrame(data) \n",
        "print(data)"
      ],
      "execution_count": 75,
      "outputs": [
        {
          "output_type": "stream",
          "text": [
            "          Time  MidPrice\n",
            "0            0     0.000\n",
            "1            1    -0.005\n",
            "2            2     0.000\n",
            "3            3     0.115\n",
            "4            4     0.140\n",
            "...        ...       ...\n",
            "5802947  23394    -0.015\n",
            "5802948  23395    -0.015\n",
            "5802949  23396    -0.015\n",
            "5802950  23397    -0.015\n",
            "5802951  23398    -0.005\n",
            "\n",
            "[5802952 rows x 2 columns]\n"
          ],
          "name": "stdout"
        }
      ]
    },
    {
      "cell_type": "code",
      "metadata": {
        "id": "6IqBMvh1keNO"
      },
      "source": [
        "def pooling(df, pooling_factor):\n",
        "  temp = df.iloc[len(df)%pooling_factor:]\n",
        "  \n",
        "  pooled_MidPrice = []\n",
        "  pooled_timestamp = []\n",
        "  for i in range(int(len(temp)/pooling_factor)-1):\n",
        "    \n",
        "    pooled_MidPrice.append(np.mean(list(df['MidPrice'])[i*pooling_factor:(i+1)*pooling_factor]))\n",
        "    pooled_timestamp.append(i)\n",
        "  \n",
        "  result = {'Time': pooled_timestamp, \n",
        "        #'BuyPrice': normalized_BuyPrice,\n",
        "        #'SellPrice' : normalized_SellPrice,\n",
        "        #'NumberBuyOrder': flattened_NumberBuyOrder,\n",
        "        # 'BuyVolume': pooled_BuyVolume,\n",
        "        # 'SellVolume': pooled_SellVolume,\n",
        "        'MidPrice': pooled_MidPrice}\n",
        "  result = pd.DataFrame(result) \n",
        "\n",
        "  return result\n",
        "\n",
        "def normalize_0_1(df):\n",
        "  result = []\n",
        "  max = np.max(list(df['MidPrice']))\n",
        "  min = np.min(list(df['MidPrice']))\n",
        "  for elem in list(df['MidPrice']):\n",
        "    result.append((elem - min)/(max-min))\n",
        "  new_df = {'Time': list(df['Time']), \n",
        "        # 'BuyPrice': flattened_BuyPrice,\n",
        "        # 'SellPrice' : flattened_SellPrice,\n",
        "        # #'NumberBuyOrder': flattened_NumberBuyOrder,\n",
        "        # 'BuyVolume': flattened_NumberBuyVolume,\n",
        "        # 'SellVolume': flattened_NumberSellVolume,\n",
        "        'MidPrice': result}\n",
        "  data = pd.DataFrame(new_df) \n",
        "  return data"
      ],
      "execution_count": 76,
      "outputs": []
    },
    {
      "cell_type": "code",
      "metadata": {
        "id": "RiReFo9slMNf"
      },
      "source": [
        "splitted_data = split_into_days(data,timestamp)"
      ],
      "execution_count": 77,
      "outputs": []
    },
    {
      "cell_type": "code",
      "metadata": {
        "colab": {
          "base_uri": "https://localhost:8080/"
        },
        "id": "NQ7dEAb70mOp",
        "outputId": "842fe33a-ae5d-4347-de7e-88d8be35c291"
      },
      "source": [
        "print(splitted_data[0])"
      ],
      "execution_count": 78,
      "outputs": [
        {
          "output_type": "stream",
          "text": [
            "        Time  MidPrice\n",
            "0          0     0.000\n",
            "1          1    -0.005\n",
            "2          2     0.000\n",
            "3          3     0.115\n",
            "4          4     0.140\n",
            "...      ...       ...\n",
            "23394  23394    -0.195\n",
            "23395  23395    -0.205\n",
            "23396  23396    -0.205\n",
            "23397  23397    -0.225\n",
            "23398  23398    -0.225\n",
            "\n",
            "[23399 rows x 2 columns]\n"
          ],
          "name": "stdout"
        }
      ]
    },
    {
      "cell_type": "code",
      "metadata": {
        "id": "3W1ojNz8ksID"
      },
      "source": [
        "splitted_data_pooled = []\n",
        "i=0\n",
        "for dataset in splitted_data:\n",
        "  i+=1\n",
        "  print(\"percentage done: \", i/len(splitted_data))\n",
        "  splitted_data_pooled.append(normalize_0_1(pooling(dataset,30)))"
      ],
      "execution_count": null,
      "outputs": []
    },
    {
      "cell_type": "markdown",
      "metadata": {
        "id": "Eqq0aPSomQtk"
      },
      "source": [
        "#Training (Old State)"
      ]
    },
    {
      "cell_type": "code",
      "metadata": {
        "id": "cV0gWQCVmEmy"
      },
      "source": [
        "import numpy as np\n",
        "import matplotlib.pyplot as plt\n",
        "import time\n",
        "import copy\n",
        "import numpy as np\n",
        "import pandas as pd\n",
        "import torch\n",
        "import torch.nn as nn\n",
        "from torch.autograd import Variable\n",
        "import torch.optim as optim\n",
        "import torch.nn.functional as F\n",
        "from plotly import tools\n",
        "from plotly.graph_objs import *\n",
        "from plotly.offline import init_notebook_mode, iplot, iplot_mpl"
      ],
      "execution_count": 80,
      "outputs": []
    },
    {
      "cell_type": "code",
      "metadata": {
        "colab": {
          "base_uri": "https://localhost:8080/",
          "height": 575
        },
        "id": "pB1g6-jYlHSL",
        "outputId": "50a9fb5c-723e-42a8-b3e6-b5ba8be395a6"
      },
      "source": [
        "print(splitted_data_pooled[0])\n",
        "fig = plt.figure(figsize=(10,5))\n",
        "\n",
        "plt.plot(splitted_data_pooled[10]['MidPrice'], linewidth=1)\n"
      ],
      "execution_count": 86,
      "outputs": [
        {
          "output_type": "stream",
          "text": [
            "     Time  MidPrice\n",
            "0       0  0.943756\n",
            "1       1  0.831447\n",
            "2       2  0.852471\n",
            "3       3  0.854807\n",
            "4       4  0.874394\n",
            "..    ...       ...\n",
            "773   773  0.696855\n",
            "774   774  0.716442\n",
            "775   775  0.696496\n",
            "776   776  0.668284\n",
            "777   777  0.652471\n",
            "\n",
            "[778 rows x 2 columns]\n"
          ],
          "name": "stdout"
        },
        {
          "output_type": "execute_result",
          "data": {
            "text/plain": [
              "[<matplotlib.lines.Line2D at 0x7f401efc5be0>]"
            ]
          },
          "metadata": {
            "tags": []
          },
          "execution_count": 86
        },
        {
          "output_type": "display_data",
          "data": {
            "image/png": "[encoded data removed]",
            "text/plain": [
              "<Figure size 720x360 with 1 Axes>"
            ]
          },
          "metadata": {
            "tags": [],
            "needs_background": "light"
          }
        }
      ]
    },
    {
      "cell_type": "code",
      "metadata": {
        "id": "aur5xDKSmLei"
      },
      "source": [
        "class Environment2:\n",
        "    \n",
        "    def __init__(self, data, history_t = 10):\n",
        "        self.data = data    #State variables. \n",
        "        self.history_t = history_t\n",
        "        self.reset()\n",
        "        \n",
        "    def reset(self):\n",
        "        self.t = 0\n",
        "        self.done = False\n",
        "        self.profits = 0\n",
        "        self.positions = []\n",
        "        self.position_value = 0\n",
        "        self.history = [0 for _ in range(self.history_t)]\n",
        "        return [self.position_value] + self.history # obs\n",
        "    \n",
        "    def step(self, act):\n",
        "        reward = 0\n",
        "\n",
        "        # act = 0: sell, \n",
        "        #1: stay, \n",
        "        #2: buy\n",
        "        if (self.t + 1 ==len(self.data)-1):\n",
        "          act == 0\n",
        "        max_holding = 10\n",
        "        if act == 2:\n",
        "            if len(self.positions)>=max_holding:\n",
        "              reward = -1\n",
        "            else:\n",
        "              self.positions.append(self.data.iloc[self.t, :]['MidPrice'])\n",
        "        elif act == 0: # sell\n",
        "            if len(self.positions) == 0:\n",
        "                reward = -1\n",
        "            else:\n",
        "                profits = 0\n",
        "                for p in self.positions:\n",
        "                    profits += (self.data.iloc[self.t, :]['MidPrice'] - p)\n",
        "                reward += profits\n",
        "                self.profits += profits\n",
        "                self.positions = []\n",
        "\n",
        "        if len(self.positions)>=max_holding:\n",
        "          reward = -1\n",
        "        # set next time\n",
        "        self.t += 1\n",
        "        #print(self.t)\n",
        "        # if self.t == 49 and self.positions != [] and act != 2:\n",
        "        #   reward = -1\n",
        "        self.position_value = 0\n",
        "        for p in self.positions:\n",
        "            self.position_value += (self.data.iloc[self.t, :]['MidPrice'] - p)\n",
        "        self.history.pop(0)\n",
        "        #self.history.append(self.data.iloc[self.t, :]['MidPrice'] - 0.5)\n",
        "        self.history.append(self.data.iloc[self.t, :]['MidPrice'] - self.data.iloc[self.t-1, :]['MidPrice'])\n",
        "        if (self.t==len(self.data)-1):\n",
        "            self.done=True\n",
        "            #self.positions = []\n",
        "            #act = 2   #Force selling at end of period\n",
        "\n",
        "        # if self.done and self.positions != []:\n",
        "        #   reward = -1\n",
        "        # clipping reward\n",
        "        if reward > 0:\n",
        "            reward = 1\n",
        "        elif reward < 0:\n",
        "            reward = -1\n",
        "        #print (\"t={%d}, done={%str}\"%(self.t,self.done))\n",
        "        #actual_action = act\n",
        "        return [self.position_value] + self.history, reward, self.done, self.positions # obs, reward, done"
      ],
      "execution_count": 82,
      "outputs": []
    },
    {
      "cell_type": "code",
      "metadata": {
        "id": "uBAnhq4umddl"
      },
      "source": [
        "class Q_Network(nn.Module):\n",
        "        \n",
        "    def __init__(self,obs_len,hidden_size,actions_n):\n",
        "            \n",
        "        super(Q_Network,self).__init__()\n",
        "            \n",
        "        self.fc_val = nn.Sequential(\n",
        "            nn.Linear(obs_len, hidden_size),\n",
        "            nn.ReLU(),\n",
        "            nn.Linear(hidden_size, hidden_size),\n",
        "            nn.ReLU(),\n",
        "            nn.Linear(hidden_size, hidden_size),\n",
        "            nn.ReLU(),\n",
        "            nn.Linear(hidden_size, hidden_size),\n",
        "            nn.ReLU(),\n",
        "            nn.Linear(hidden_size, hidden_size),\n",
        "            nn.ReLU(),\n",
        "            nn.Linear(hidden_size, hidden_size),\n",
        "            nn.ReLU(),\n",
        "            nn.Linear(hidden_size, actions_n)\n",
        "        )\n",
        "        \n",
        "        \n",
        "    def forward(self,x):\n",
        "        h =  self.fc_val(x)\n",
        "        return (h)\n",
        "\n",
        "hidden_size=20\n",
        "input_size=11\n",
        "output_size=3\n",
        "USE_CUDA = False\n",
        "LR = 0.001\n",
        "Q = Q_Network(input_size, hidden_size, output_size)\n",
        "Q_ast = copy.deepcopy(Q)\n",
        "if USE_CUDA:\n",
        "    Q = Q.cuda()\n",
        "    print(\"using Cuda\")\n",
        "loss_function = nn.MSELoss()\n",
        "optimizer = optim.Adam(list(Q.parameters()), lr=LR)\n"
      ],
      "execution_count": 83,
      "outputs": []
    },
    {
      "cell_type": "code",
      "metadata": {
        "id": "PJQLCL7gmg-L"
      },
      "source": [
        "#epoch_num = 20\n",
        "memory_size = 7780\n",
        "batch_size = 778\n",
        "#gamma = 0.99\n",
        "\n",
        "memory = []\n",
        "total_step = 0\n",
        "total_rewards = []\n",
        "total_losses = []\n",
        "epsilon = 1.0\n",
        "epsilon_decrease = 1e-3\n",
        "epsilon_min = 0.01\n",
        "start_reduce_epsilon = 200\n",
        "train_freq = 10\n",
        "update_q_freq = 20\n",
        "gamma = 0.999\n",
        "show_log_freq = 20\n",
        "repeat = 5"
      ],
      "execution_count": 89,
      "outputs": []
    },
    {
      "cell_type": "code",
      "metadata": {
        "id": "F28QMeC-mnsz"
      },
      "source": [
        "master_reward = []\n",
        "#start = time.time()\n",
        "for epoch in range(200):\n",
        "    epoch_data = splitted_data_pooled[epoch]\n",
        "    print(\"Percentage done: \", 100*epoch/200)\n",
        "    #epoch_data = pd.DataFrame(epoch_data) \n",
        "    env = Environment2(epoch_data)\n",
        "    step_max = len(env.data)-1\n",
        "  \n",
        "    pobs = env.reset()\n",
        "    step = 0\n",
        "    done = False\n",
        "    total_reward = 0\n",
        "    total_loss = 0\n",
        "    iterations = []\n",
        "    log_rewards = []\n",
        "    log_losses = []\n",
        "    iteration = 1\n",
        "    #trading_history = []\n",
        "    while not done and step < step_max:\n",
        "        #if done:\n",
        "        #  trading_history = []  #For pair trading, make sure the stock\n",
        "        # select action\n",
        "        pact = np.random.randint(3)\n",
        "        if np.random.rand() > epsilon:  #Epsilon greedy Exploration\n",
        "            pact = Q(torch.from_numpy(np.array(pobs, dtype=np.float32).reshape(1, -1)))\n",
        "            pact = np.argmax(pact.data)\n",
        "            pact = pact.numpy()\n",
        "        # if step == step_max - 1:\n",
        "        #   pact = 2\n",
        "        # act\n",
        "        obs, reward, done, inventory = env.step(pact)\n",
        "        #print(\"Step max is: \", step_max, \"Inventory is: \", inventory)\n",
        "        # if done is True:\n",
        "        #     print(\"action is: \", actual_action, \"  Reward is: \", reward, \"  Done? \", done)\n",
        "\n",
        "        # add memory\n",
        "        memory.append((pobs, pact, reward, obs, done))\n",
        "        #memory.append((pobs, actual_action, reward, obs, done))\n",
        "        if len(memory) > memory_size:\n",
        "            memory.pop(0)\n",
        "\n",
        "        # train or update q\n",
        "        if len(memory) == memory_size:\n",
        "            if total_step % train_freq == 0:\n",
        "                shuffled_memory = np.random.permutation(memory)\n",
        "                memory_idx = range(len(shuffled_memory))\n",
        "                for i in memory_idx[::batch_size]:\n",
        "                    batch = np.array(shuffled_memory[i:i+batch_size])\n",
        "                    b_pobs = np.array(batch[:, 0].tolist(), dtype=np.float32).reshape(batch_size, -1)\n",
        "                    b_pact = np.array(batch[:, 1].tolist(), dtype=np.int32)\n",
        "                    b_reward = np.array(batch[:, 2].tolist(), dtype=np.int32)\n",
        "                    b_obs = np.array(batch[:, 3].tolist(), dtype=np.float32).reshape(batch_size, -1)\n",
        "                    b_done = np.array(batch[:, 4].tolist(), dtype=np.bool)\n",
        "\n",
        "                    q = Q(torch.from_numpy(b_pobs))\n",
        "                    q_ = Q_ast(torch.from_numpy(b_obs))\n",
        "                    maxq = np.max(q_.data.numpy(),axis=1)\n",
        "                    target = copy.deepcopy(q.data)\n",
        "                    for j in range(batch_size):\n",
        "                        target[j, b_pact[j]] = b_reward[j]+gamma*maxq[j]*(not b_done[j])\n",
        "                    Q.zero_grad()\n",
        "                    loss = loss_function(q, target)\n",
        "                    total_loss += loss.data.item()\n",
        "                    loss.backward()\n",
        "                    optimizer.step()\n",
        "                    \n",
        "            if total_step % update_q_freq == 0:\n",
        "                Q_ast = copy.deepcopy(Q)\n",
        "                \n",
        "            # epsilon\n",
        "            if epsilon > epsilon_min and total_step > start_reduce_epsilon:\n",
        "                epsilon -= epsilon_decrease\n",
        "\n",
        "            # next step\n",
        "            total_reward += reward\n",
        "            pobs = obs\n",
        "            step += 1\n",
        "            total_step += 1\n",
        "\n",
        "        total_rewards.append(total_reward)\n",
        "        master_reward.append(total_rewards)\n",
        "        total_losses.append(total_loss)\n",
        "\n",
        "        if (epoch+1) % show_log_freq == 0:\n",
        "            \n",
        "            iterations.append(iteration)\n",
        "            iteration += 1\n",
        "            log_reward = sum(total_rewards[((epoch+1)-show_log_freq):])/show_log_freq\n",
        "            log_rewards.append(log_reward)\n",
        "            log_loss = sum(total_losses[((epoch+1)-show_log_freq):])/show_log_freq\n",
        "            log_losses.append(log_loss)\n",
        "            #elapsed_time = time.time()-start\n",
        "            print('\\t'.join(map(str, [epoch+1, epsilon, total_step, log_reward, log_loss])))\n",
        "            #start = time.time()"
      ],
      "execution_count": null,
      "outputs": []
    },
    {
      "cell_type": "code",
      "metadata": {
        "colab": {
          "base_uri": "https://localhost:8080/",
          "height": 299
        },
        "id": "6yoEVHh7Nacu",
        "outputId": "fe86b849-aa89-4e96-929e-de863ab7cd98"
      },
      "source": [
        "to_test = 10\n",
        "test_data = splitted_data_pooled[to_test]\n",
        "test_env = Environment2(test_data)\n",
        "\n",
        "#test_env = Environment1(X[100])\n",
        "pobs = test_env.reset()\n",
        "test_acts = []\n",
        "test_rewards = []\n",
        "inventory = []\n",
        "for _ in range(len(test_env.data)-1):\n",
        "    \n",
        "    pact = Q(torch.from_numpy(np.array(pobs, dtype=np.float32).reshape(1, -1)))\n",
        "    pact = np.argmax(pact.data)\n",
        "    \n",
        "    #print(pact.numpy())        \n",
        "    obs, reward, done, epoch_inventory = test_env.step(pact.numpy())\n",
        "    inventory.append(len(epoch_inventory))\n",
        "    test_acts.append(pact.numpy())\n",
        "    test_rewards.append(reward)\n",
        "\n",
        "    pobs = obs\n",
        "test_acts[len(test_env.data)-2] = 0\n",
        "        \n",
        "test_profits = test_env.profits\n",
        "\n",
        "buy_point = []\n",
        "buy_time = []\n",
        "sell_point = []\n",
        "sell_time = []\n",
        "t = []\n",
        "for i in range(len(test_acts)):\n",
        "  t.append(i/len(test_acts))\n",
        "  if test_acts[i] == 2:\n",
        "    buy_point.append(splitted_data_pooled[to_test]['MidPrice'].iloc[i])\n",
        "    buy_time.append(i/len(test_acts))\n",
        "  if test_acts[i] == 0:\n",
        "    sell_point.append(splitted_data_pooled[to_test]['MidPrice'].iloc[i])\n",
        "    sell_time.append(i/len(test_acts))\n",
        "\n",
        "fig = plt.figure(figsize=(30,5))\n",
        "plt.plot(t,splitted_data_pooled[to_test]['MidPrice'].iloc[:-1])\n",
        "plt.plot(buy_time, buy_point, 'o', color='green')\n",
        "plt.plot(sell_time, sell_point, 'x', color='red');\n",
        "plt.legend([\"Price Movement\",\"Buy Action\",\"Sell Action\"])\n",
        "#print(mark)\n",
        "plt.show()\n",
        "\n",
        "\n"
      ],
      "execution_count": 216,
      "outputs": [
        {
          "output_type": "display_data",
          "data": {
            "image/png": "[encoded data removed]",
            "text/plain": [
              "<Figure size 2160x360 with 1 Axes>"
            ]
          },
          "metadata": {
            "tags": []
          }
        }
      ]
    },
    {
      "cell_type": "code",
      "metadata": {
        "colab": {
          "base_uri": "https://localhost:8080/"
        },
        "id": "_rm_WJtHYC7N",
        "outputId": "573d7229-abe5-47f1-9bcb-5eade367f03c"
      },
      "source": [
        "print(test_profits)"
      ],
      "execution_count": 117,
      "outputs": [
        {
          "output_type": "stream",
          "text": [
            "-2.7319721980886245\n"
          ],
          "name": "stdout"
        }
      ]
    },
    {
      "cell_type": "code",
      "metadata": {
        "id": "n-qxtbmIN8Xz"
      },
      "source": [
        "#Try all sample path\n",
        "samplepath_number = []\n",
        "test_profits = []\n",
        "actions = []\n",
        "all_inventory = []\n",
        "for i in range(0,len(splitted_data_pooled)):\n",
        "  epoch_action = []\n",
        "  inventory = []\n",
        "  test_data = splitted_data_pooled[i]\n",
        "  test_env = Environment2(test_data)\n",
        "  pobs = test_env.reset()\n",
        "  test_acts = []\n",
        "  test_rewards = []\n",
        "  print(\"Percentage done: \", i*100/len(splitted_data_pooled))\n",
        "  for i in range(len(test_env.data)-1):\n",
        "      #inventory.append(0)\n",
        "      pact = Q(torch.from_numpy(np.array(pobs, dtype=np.float32).reshape(1, -1)))\n",
        "      pact = np.argmax(pact.data)\n",
        "      test_acts.append(pact.item())\n",
        "      #print(pact.numpy())        \n",
        "      # if pact.numpy() == 1:\n",
        "      #   if i > 0:\n",
        "      #     inventory[i] = inventory[i-1]+1\n",
        "\n",
        "      obs, reward, done, epoch_inventory = test_env.step(pact.numpy())\n",
        "      inventory.append(len(epoch_inventory))\n",
        "      epoch_action.append(pact.numpy())\n",
        "      test_rewards.append(reward)\n",
        "\n",
        "      pobs = obs\n",
        "  epoch_action[len(test_env.data)-2] = 0\n",
        "  actions.append(epoch_action)\n",
        "  all_inventory.append(inventory)        \n",
        "  test_profits.append(test_env.profits)\n",
        "  samplepath_number.append(i+1)"
      ],
      "execution_count": null,
      "outputs": []
    },
    {
      "cell_type": "code",
      "metadata": {
        "colab": {
          "base_uri": "https://localhost:8080/",
          "height": 384
        },
        "id": "t6aWkatyAEpz",
        "outputId": "b401d984-6a03-4bb3-c3bb-c512affc1552"
      },
      "source": [
        "plt.hist(test_profits, color = 'blue', edgecolor = 'black',\n",
        "         bins = 15)"
      ],
      "execution_count": 129,
      "outputs": [
        {
          "output_type": "execute_result",
          "data": {
            "text/plain": [
              "(array([ 4.,  8., 16., 17., 23., 33., 35., 29., 40., 20.,  8.,  8.,  3.,\n",
              "         1.,  2.]),\n",
              " array([-1.44129236, -0.93321978, -0.42514719,  0.08292539,  0.59099797,\n",
              "         1.09907055,  1.60714313,  2.11521571,  2.62328829,  3.13136087,\n",
              "         3.63943345,  4.14750603,  4.65557861,  5.16365119,  5.67172378,\n",
              "         6.17979636]),\n",
              " <a list of 15 Patch objects>)"
            ]
          },
          "metadata": {
            "tags": []
          },
          "execution_count": 129
        },
        {
          "output_type": "display_data",
          "data": {
            "image/png": "[encoded data removed]",
            "text/plain": [
              "<Figure size 432x288 with 1 Axes>"
            ]
          },
          "metadata": {
            "tags": [],
            "needs_background": "light"
          }
        }
      ]
    },
    {
      "cell_type": "code",
      "metadata": {
        "colab": {
          "base_uri": "https://localhost:8080/"
        },
        "id": "UGxOaFLfAHnU",
        "outputId": "abb5eb65-4c9b-44d3-de7e-39d3df4671ba"
      },
      "source": [
        "YEAH = 0\n",
        "NOOOO = 0\n",
        "for elem in test_profits:\n",
        "  if elem >= 0.0:\n",
        "    YEAH += 1\n",
        "  else:\n",
        "    NOOOO -= 1\n",
        "\n",
        "print(\"Percentage of Profitting: \", YEAH*100/(len(test_profits)),\"%\")"
      ],
      "execution_count": 125,
      "outputs": [
        {
          "output_type": "stream",
          "text": [
            "Percentage of Profitting:  89.06882591093117 %\n"
          ],
          "name": "stdout"
        }
      ]
    },
    {
      "cell_type": "markdown",
      "metadata": {
        "id": "rzv3zQgcN9qr"
      },
      "source": [
        "#Heat Map (Old State)"
      ]
    },
    {
      "cell_type": "code",
      "metadata": {
        "id": "6FCsLJXVKTkr"
      },
      "source": [
        "updated_all_inventory = all_inventory\n",
        "for i in range(len(all_inventory)):\n",
        "  updated_all_inventory[i].insert(0,0)\n",
        "  #del updated_all_inventory[i][0]\n",
        "  del updated_all_inventory[i][len(all_inventory[0])-1]\n",
        "  #updated_all_inventory[i][len(all_inventory[0])-1] = 0\n",
        "print(updated_all_inventory[2])\n",
        "print(len(updated_all_inventory[2]))"
      ],
      "execution_count": null,
      "outputs": []
    },
    {
      "cell_type": "code",
      "metadata": {
        "id": "Iz4UVzYpMl7h"
      },
      "source": [
        "import numpy as np; np.random.seed(0)\n",
        "import seaborn as sns; sns.set_theme()\n",
        "#Begin of the day: t = 0\n",
        "time_spot = 0\n",
        "inventory_spot = []\n",
        "price_spot = []\n",
        "action_spot = []\n",
        "for i in range(len(actions)):\n",
        "  price_spot.append(splitted_data_pooled[i]['MidPrice'][time_spot])\n",
        "  inventory_spot.append(updated_all_inventory[i][time_spot])\n",
        "  action_spot.append(actions[i][time_spot])\n",
        "price_quartile = []\n",
        "for i in range(len(price_spot)):\n",
        "  if price_spot[i] <= np.quantile(price_spot,0.25):\n",
        "    price_quartile.append(1)\n",
        "  elif np.quantile(price_spot,0.25) < price_spot[i] <= np.quantile(price_spot,0.5):\n",
        "    price_quartile.append(2)\n",
        "  elif np.quantile(price_spot,0.5) < price_spot[i] <= np.quantile(price_spot,0.75):\n",
        "    price_quartile.append(3)\n",
        "  elif np.quantile(price_spot,0.75) < price_spot[i]:\n",
        "    price_quartile.append(4)\n",
        "data = np.transpose([price_quartile,inventory_spot,action_spot])  \n",
        "df = pd.DataFrame(data, columns = ['price', 'inventory','action'])"
      ],
      "execution_count": 146,
      "outputs": []
    },
    {
      "cell_type": "code",
      "metadata": {
        "id": "L7L1ihMtM89u",
        "colab": {
          "base_uri": "https://localhost:8080/",
          "height": 289
        },
        "outputId": "6c9261ec-1094-4b95-f61d-516a39db36eb"
      },
      "source": [
        "#df = sns.load_dataset(\"flights\")\n",
        "table = pd.pivot_table(df, values='action', index=['inventory'], columns = ['price'],\n",
        "                     aggfunc=np.mean)\n",
        "#print(table)\n",
        "ax = sns.heatmap(table, annot=True, fmt=\"f\")"
      ],
      "execution_count": 147,
      "outputs": [
        {
          "output_type": "display_data",
          "data": {
            "image/png": "[encoded data removed]",
            "text/plain": [
              "<Figure size 432x288 with 2 Axes>"
            ]
          },
          "metadata": {
            "tags": []
          }
        }
      ]
    },
    {
      "cell_type": "code",
      "metadata": {
        "id": "4IHwd-5YM9bS"
      },
      "source": [
        "#End of the day: t = 776\n",
        "time_spot = 776\n",
        "inventory_spot = []\n",
        "price_spot = []\n",
        "action_spot = []\n",
        "for i in range(len(actions)):\n",
        "  price_spot.append(splitted_data_pooled[i]['MidPrice'][time_spot])\n",
        "  inventory_spot.append(updated_all_inventory[i][time_spot])\n",
        "  action_spot.append(actions[i][time_spot])\n",
        "price_quartile = []\n",
        "for i in range(len(price_spot)):\n",
        "  if price_spot[i] <= np.quantile(price_spot,0.25):\n",
        "    price_quartile.append(1)\n",
        "  elif np.quantile(price_spot,0.25) < price_spot[i] <= np.quantile(price_spot,0.5):\n",
        "    price_quartile.append(2)\n",
        "  elif np.quantile(price_spot,0.5) < price_spot[i] <= np.quantile(price_spot,0.75):\n",
        "    price_quartile.append(3)\n",
        "  elif np.quantile(price_spot,0.75) < price_spot[i]:\n",
        "    price_quartile.append(4)\n",
        "data = np.transpose([price_quartile,inventory_spot,action_spot])  \n",
        "df = pd.DataFrame(data, columns = ['price', 'inventory','action'])"
      ],
      "execution_count": 148,
      "outputs": []
    },
    {
      "cell_type": "code",
      "metadata": {
        "id": "AJrNTo21NIE6",
        "colab": {
          "base_uri": "https://localhost:8080/",
          "height": 289
        },
        "outputId": "284bc4ea-deda-4488-a940-81cc4dc7c19e"
      },
      "source": [
        "#df = sns.load_dataset(\"flights\")\n",
        "table = pd.pivot_table(df, values='action', index=['inventory'], columns = ['price'],\n",
        "                     aggfunc=np.mean)\n",
        "#print(table)\n",
        "ax = sns.heatmap(table, annot=True, fmt=\"f\")"
      ],
      "execution_count": 149,
      "outputs": [
        {
          "output_type": "display_data",
          "data": {
            "image/png": "[encoded data removed]",
            "text/plain": [
              "<Figure size 432x288 with 2 Axes>"
            ]
          },
          "metadata": {
            "tags": []
          }
        }
      ]
    },
    {
      "cell_type": "code",
      "metadata": {
        "colab": {
          "base_uri": "https://localhost:8080/"
        },
        "id": "JYtvX8tzKnmQ",
        "outputId": "bf4821ed-9080-4ff5-9ddf-afd024622f28"
      },
      "source": [
        "#Near end of the day: t = 720 to t = 776\n",
        "#time_spot = 25\n",
        "inventory_spot = []\n",
        "price_spot = []\n",
        "action_spot = []\n",
        "for i in range(len(actions)):\n",
        "  for j in range(720,776):\n",
        "    price_spot.append(splitted_data_pooled[i]['MidPrice'][j])\n",
        "    inventory_spot.append(updated_all_inventory[i][j])\n",
        "    action_spot.append(actions[i][j])\n",
        "price_quartile = []\n",
        "print(\"Loaded\")\n",
        "first_quantile = np.quantile(price_spot,0.1)\n",
        "second_quantile = np.quantile(price_spot,0.5)\n",
        "third_quantile = np.quantile(price_spot,0.9)\n",
        "print(\"Done\")\n",
        "for i in range(len(price_spot)):\n",
        "  #print(\"Percent complete: \", i/len(price_spot))\n",
        "  if price_spot[i] <= first_quantile:\n",
        "    price_quartile.append(1)\n",
        "  elif first_quantile < price_spot[i] <= second_quantile:\n",
        "    price_quartile.append(2)\n",
        "  elif second_quantile < price_spot[i] <= third_quantile:\n",
        "    price_quartile.append(3)\n",
        "  elif third_quantile < price_spot[i]:\n",
        "    price_quartile.append(4)\n",
        "data = np.transpose([price_quartile,inventory_spot,action_spot])  \n",
        "df = pd.DataFrame(data, columns = ['price', 'inventory','action'])"
      ],
      "execution_count": 211,
      "outputs": [
        {
          "output_type": "stream",
          "text": [
            "Loaded\n",
            "Done\n"
          ],
          "name": "stdout"
        }
      ]
    },
    {
      "cell_type": "code",
      "metadata": {
        "id": "XAkkdGkQLZT7"
      },
      "source": [
        ""
      ],
      "execution_count": 194,
      "outputs": []
    },
    {
      "cell_type": "code",
      "metadata": {
        "colab": {
          "base_uri": "https://localhost:8080/",
          "height": 289
        },
        "id": "wgCJDPFGK7Ez",
        "outputId": "13e44cd2-6b33-4423-82c3-0fc1b79ec8c6"
      },
      "source": [
        "\n",
        "table = pd.pivot_table(df, values='action', index=['inventory'], columns = ['price'],\n",
        "                     aggfunc=np.mean)\n",
        "\n",
        "\n",
        "#print(table)\n",
        "ax = sns.heatmap(table[:], annot=True, fmt=\"f\",vmin=0, vmax=2)"
      ],
      "execution_count": 213,
      "outputs": [
        {
          "output_type": "display_data",
          "data": {
            "image/png": "[encoded data removed]",
            "text/plain": [
              "<Figure size 432x288 with 2 Axes>"
            ]
          },
          "metadata": {
            "tags": []
          }
        }
      ]
    },
    {
      "cell_type": "code",
      "metadata": {
        "colab": {
          "base_uri": "https://localhost:8080/"
        },
        "id": "Gg3Gj4nXLhFq",
        "outputId": "18fa869b-d004-4fcf-c91e-68ff0a922818"
      },
      "source": [
        "#Near beginning of the day: t = 0 to t = 50\n",
        "#time_spot = 25\n",
        "inventory_spot = []\n",
        "price_spot = []\n",
        "action_spot = []\n",
        "for i in range(len(actions)):\n",
        "  for j in range(0,50):\n",
        "    price_spot.append(splitted_data_pooled[i]['MidPrice'][j])\n",
        "    inventory_spot.append(updated_all_inventory[i][j])\n",
        "    action_spot.append(actions[i][j])\n",
        "price_quartile = []\n",
        "print(\"Loaded\")\n",
        "first_quantile = np.quantile(price_spot,0.1)\n",
        "second_quantile = np.quantile(price_spot,0.5)\n",
        "third_quantile = np.quantile(price_spot,0.9)\n",
        "print(\"Done\")\n",
        "for i in range(len(price_spot)):\n",
        "  #print(\"Percent complete: \", i/len(price_spot))\n",
        "  if price_spot[i] <= first_quantile:\n",
        "    price_quartile.append(1)\n",
        "  elif first_quantile < price_spot[i] <= second_quantile:\n",
        "    price_quartile.append(2)\n",
        "  elif second_quantile < price_spot[i] <= third_quantile:\n",
        "    price_quartile.append(3)\n",
        "  elif third_quantile < price_spot[i]:\n",
        "    price_quartile.append(4)\n",
        "data = np.transpose([price_quartile,inventory_spot,action_spot])  \n",
        "df = pd.DataFrame(data, columns = ['price', 'inventory','action'])"
      ],
      "execution_count": 214,
      "outputs": [
        {
          "output_type": "stream",
          "text": [
            "Loaded\n",
            "Done\n"
          ],
          "name": "stdout"
        }
      ]
    },
    {
      "cell_type": "code",
      "metadata": {
        "colab": {
          "base_uri": "https://localhost:8080/",
          "height": 289
        },
        "id": "dNkdoPq-LmmW",
        "outputId": "b52b7be8-6eb5-4c0f-f692-d585441ecd03"
      },
      "source": [
        "\n",
        "table = pd.pivot_table(df, values='action', index=['inventory'], columns = ['price'],\n",
        "                     aggfunc=np.mean)\n",
        "table = remove_outlier(table)\n",
        "\n",
        "#print(table)\n",
        "ax = sns.heatmap(table[:], annot=True, fmt=\"f\",vmin=0, vmax=2)"
      ],
      "execution_count": 215,
      "outputs": [
        {
          "output_type": "display_data",
          "data": {
            "image/png": "[encoded data removed]",
            "text/plain": [
              "<Figure size 432x288 with 2 Axes>"
            ]
          },
          "metadata": {
            "tags": []
          }
        }
      ]
    },
    {
      "cell_type": "code",
      "metadata": {
        "colab": {
          "base_uri": "https://localhost:8080/"
        },
        "id": "dGfmU95qNEBh",
        "outputId": "ecda5e53-c64b-444d-e60c-aff25b8fa160"
      },
      "source": [
        "#Middle of the day: t = 300 to t = 500\n",
        "#time_spot = 25\n",
        "inventory_spot = []\n",
        "price_spot = []\n",
        "action_spot = []\n",
        "for i in range(len(actions)):\n",
        "  for j in range(300,500):\n",
        "    price_spot.append(splitted_data_pooled[i]['MidPrice'][j])\n",
        "    inventory_spot.append(updated_all_inventory[i][j])\n",
        "    action_spot.append(actions[i][j])\n",
        "price_quartile = []\n",
        "print(\"Loaded\")\n",
        "first_quantile = np.quantile(price_spot,0.1)\n",
        "second_quantile = np.quantile(price_spot,0.5)\n",
        "third_quantile = np.quantile(price_spot,0.9)\n",
        "print(\"Done\")\n",
        "for i in range(len(price_spot)):\n",
        "  #print(\"Percent complete: \", i/len(price_spot))\n",
        "  if price_spot[i] <= first_quantile:\n",
        "    price_quartile.append(1)\n",
        "  elif first_quantile < price_spot[i] <= second_quantile:\n",
        "    price_quartile.append(2)\n",
        "  elif second_quantile < price_spot[i] <= third_quantile:\n",
        "    price_quartile.append(3)\n",
        "  elif third_quantile < price_spot[i]:\n",
        "    price_quartile.append(4)\n",
        "data = np.transpose([price_quartile,inventory_spot,action_spot])  \n",
        "df = pd.DataFrame(data, columns = ['price', 'inventory','action'])"
      ],
      "execution_count": 161,
      "outputs": [
        {
          "output_type": "stream",
          "text": [
            "Loaded\n",
            "Done\n"
          ],
          "name": "stdout"
        }
      ]
    },
    {
      "cell_type": "code",
      "metadata": {
        "colab": {
          "base_uri": "https://localhost:8080/",
          "height": 289
        },
        "id": "TxoUf6c7NL5j",
        "outputId": "98c5f311-a338-4110-81a0-3768fbe16b07"
      },
      "source": [
        "table = pd.pivot_table(df, values='action', index=['inventory'], columns = ['price'],\n",
        "                      aggfunc=np.mean)\n",
        "table = remove_outlier(table)\n",
        "table = remove_outlier(table)\n",
        "\n",
        "\n",
        "#print(table)\n",
        "ax = sns.heatmap(table[:], annot=True, fmt=\"f\",vmin=0, vmax=2)"
      ],
      "execution_count": 195,
      "outputs": [
        {
          "output_type": "display_data",
          "data": {
            "image/png": "[encoded data removed]",
            "text/plain": [
              "<Figure size 432x288 with 2 Axes>"
            ]
          },
          "metadata": {
            "tags": []
          }
        }
      ]
    }
  ]
}