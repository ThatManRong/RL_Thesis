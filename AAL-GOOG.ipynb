{
  "nbformat": 4,
  "nbformat_minor": 0,
  "metadata": {
    "colab": {
      "name": "Pair Trading.ipynb",
      "provenance": [],
      "authorship_tag": "ABX9TyOsarElyRUgCRLcabK33wwZ",
      "include_colab_link": true
    },
    "kernelspec": {
      "name": "python3",
      "display_name": "Python 3"
    }
  },
  "cells": [
    {
      "cell_type": "markdown",
      "metadata": {
        "id": "view-in-github",
        "colab_type": "text"
      },
      "source": [
        "<a href=\"https://colab.research.google.com/github/ThatManRong/RL_Thesis/blob/Pair-Trading/AAL-GOOG.ipynb\" target=\"_parent\"><img src=\"https://colab.research.google.com/assets/colab-badge.svg\" alt=\"Open In Colab\"/></a>"
      ]
    },
    {
      "cell_type": "code",
      "metadata": {
        "colab": {
          "base_uri": "https://localhost:8080/"
        },
        "id": "ZWbz3TRpJMr6",
        "outputId": "f76a582d-861d-4d36-d92c-af71864d062f"
      },
      "source": [
        "from google.colab import drive\n",
        "drive.mount('/content/drive')"
      ],
      "execution_count": 1,
      "outputs": [
        {
          "output_type": "stream",
          "text": [
            "Drive already mounted at /content/drive; to attempt to forcibly remount, call drive.mount(\"/content/drive\", force_remount=True).\n"
          ],
          "name": "stdout"
        }
      ]
    },
    {
      "cell_type": "code",
      "metadata": {
        "id": "MXQJRDAFM6Si"
      },
      "source": [
        "from scipy.io import loadmat\n",
        "import math\n",
        "import statistics\n",
        "import os\n"
      ],
      "execution_count": 2,
      "outputs": []
    },
    {
      "cell_type": "code",
      "metadata": {
        "id": "2r9Ju3-GNYx4"
      },
      "source": [
        "dataDir = '/content/drive/My Drive/Colab Notebooks/AAL/'\n",
        "mats_AAL = []\n",
        "for file in os.listdir( dataDir ) :\n",
        "    mats_AAL.append(loadmat( dataDir+file ) )\n",
        "\n",
        "# dataDir = '/content/drive/My Drive/Colab Notebooks/FB/'\n",
        "# mats_FB = []\n",
        "# for file in os.listdir( dataDir ) :\n",
        "#     mats_FB.append(loadmat( dataDir+file ) )\n",
        "\n",
        "dataDir = '/content/drive/My Drive/Colab Notebooks/GOOG/'\n",
        "mats_GOOG = []\n",
        "for file in os.listdir( dataDir ) :\n",
        "    mats_GOOG.append(loadmat( dataDir+file ) )\n",
        "  \n",
        "# dataDir = '/content/drive/My Drive/Colab Notebooks/SIRI/'\n",
        "# mats_SIRI = []\n",
        "# for file in os.listdir( dataDir ) :\n",
        "#     mats_SIRI.append(loadmat( dataDir+file ) )\n",
        "\n",
        "# dataDir = '/content/drive/My Drive/Colab Notebooks/INTC/'\n",
        "# mats_INTC = []\n",
        "# for file in os.listdir( dataDir ) :\n",
        "#     mats_INTC.append(loadmat( dataDir+file ) )\n",
        "\n",
        "# dataDir = '/content/drive/My Drive/Colab Notebooks/VOD/'\n",
        "# mats_VOD = []\n",
        "# for file in os.listdir( dataDir ) :\n",
        "#     mats_VOD.append(loadmat( dataDir+file ) )"
      ],
      "execution_count": 3,
      "outputs": []
    },
    {
      "cell_type": "code",
      "metadata": {
        "id": "5DNzlLOBPGJP"
      },
      "source": [
        "import numpy as np\n",
        "AAL_BuyPrice = []\n",
        "AAL_SellPrice = []\n",
        "FB_BuyPrice = []\n",
        "FB_SellPrice = []\n",
        "GOOG_BuyPrice = []\n",
        "GOOG_SellPrice = []\n",
        "SIRI_BuyPrice = []\n",
        "SIRI_SellPrice = []\n",
        "INTC_BuyPrice = []\n",
        "INTC_SellPrice = []\n",
        "VOD_BuyPrice = []\n",
        "VOD_SellPrice = []\n",
        "#master_time = []\n",
        "for i in range(len(mats_AAL)):\n",
        "  #master_time.append(np.array(mats[i]['data']['EventTime'][0][0]))\n",
        "  AAL_BuyPrice.append(np.array(mats_AAL[i]['data']['BuyPrice'][0][0]))\n",
        "  AAL_SellPrice.append(np.array(mats_AAL[i]['data']['SellPrice'][0][0]))\n",
        "\n",
        "# for i in range(len(mats_FB)):\n",
        "#   #master_time.append(np.array(mats[i]['data']['EventTime'][0][0]))\n",
        "#   FB_BuyPrice.append(np.array(mats_FB[i]['data']['BuyPrice'][0][0]))\n",
        "#   FB_SellPrice.append(np.array(mats_FB[i]['data']['SellPrice'][0][0]))\n",
        "\n",
        "for i in range(len(mats_GOOG)):\n",
        "  #master_time.append(np.array(mats[i]['data']['EventTime'][0][0]))\n",
        "  GOOG_BuyPrice.append(np.array(mats_GOOG[i]['data']['BuyPrice'][0][0]))\n",
        "  GOOG_SellPrice.append(np.array(mats_GOOG[i]['data']['SellPrice'][0][0]))\n",
        "\n",
        "# for i in range(len(mats_SIRI)):\n",
        "#   #master_time.append(np.array(mats[i]['data']['EventTime'][0][0]))\n",
        "#   SIRI_BuyPrice.append(np.array(mats_SIRI[i]['data']['BuyPrice'][0][0]))\n",
        "#   SIRI_SellPrice.append(np.array(mats_SIRI[i]['data']['SellPrice'][0][0]))\n",
        "\n",
        "# for i in range(len(mats_INTC)):\n",
        "#   #master_time.append(np.array(mats[i]['data']['EventTime'][0][0]))\n",
        "#   INTC_BuyPrice.append(np.array(mats_INTC[i]['data']['BuyPrice'][0][0]))\n",
        "#   INTC_SellPrice.append(np.array(mats_INTC[i]['data']['SellPrice'][0][0]))\n",
        "\n",
        "# for i in range(len(mats_VOD)):\n",
        "#   #master_time.append(np.array(mats[i]['data']['EventTime'][0][0]))\n",
        "#   VOD_BuyPrice.append(np.array(mats_VOD[i]['data']['BuyPrice'][0][0]))\n",
        "#   VOD_SellPrice.append(np.array(mats_VOD[i]['data']['SellPrice'][0][0]))"
      ],
      "execution_count": 4,
      "outputs": []
    },
    {
      "cell_type": "code",
      "metadata": {
        "id": "dUNgfZuMY12E"
      },
      "source": [
        "print(AAL_BuyPrice[0])"
      ],
      "execution_count": null,
      "outputs": []
    },
    {
      "cell_type": "code",
      "metadata": {
        "id": "ug5cTjXfSSmF"
      },
      "source": [
        "def clear_master(master):\n",
        "  result = master\n",
        "  for i in range(len(master)):\n",
        "    if len(master[i]) != 23400:\n",
        "      print(len(master[i]))\n",
        "      del result[i]\n",
        "  return result\n",
        "\n",
        "def flatten_master(master, price_indicator):\n",
        "  if price_indicator == True:\n",
        "    result = []\n",
        "    for i in range(len(master)):\n",
        "      #print('Percent Done: ', i/len(master))\n",
        "      for j in range(len(master[i])-1):\n",
        "        #for k in range(len(master[0][0])):\n",
        "        result.append((master[i][j][0]-master[i][0][0])/10000)   #Price difference between spot price and price of the beginning. \n",
        "  if price_indicator == False:\n",
        "    result = []\n",
        "    for i in range(len(master)):\n",
        "      for j in range(len(master[0])-1):\n",
        "        #for k in range(len(master[0][0])):\n",
        "        result.append(master[i][j][0])\n",
        "  return result\n"
      ],
      "execution_count": 5,
      "outputs": []
    },
    {
      "cell_type": "code",
      "metadata": {
        "id": "faxI7qM4Uxvn"
      },
      "source": [
        "#abc = clear_master(AAL_BuyPrice)\n",
        "flattened_AAL_BuyPrice = flatten_master(AAL_BuyPrice, price_indicator = True) \n",
        "flattened_AAL_SellPrice = flatten_master(AAL_BuyPrice, price_indicator = True) \n",
        "flattened_AAL_MidPrice = []\n",
        "for i in range(len(flattened_AAL_BuyPrice)):\n",
        "  flattened_AAL_MidPrice.append(0.5*flattened_AAL_BuyPrice[i]+0.5*flattened_AAL_SellPrice[i])"
      ],
      "execution_count": 6,
      "outputs": []
    },
    {
      "cell_type": "code",
      "metadata": {
        "id": "TOxzAeYgRKV5"
      },
      "source": [
        "#abc = clear_master(FB_BuyPrice)\n",
        "flattened_GOOG_BuyPrice = flatten_master(GOOG_BuyPrice, price_indicator = True) \n",
        "flattened_GOOG_SellPrice = flatten_master(GOOG_SellPrice, price_indicator = True) \n",
        "flattened_GOOG_MidPrice = []\n",
        "for i in range(len(flattened_GOOG_BuyPrice)):\n",
        "  flattened_GOOG_MidPrice.append(0.5*flattened_GOOG_BuyPrice[i]+0.5*flattened_GOOG_SellPrice[i])"
      ],
      "execution_count": 7,
      "outputs": []
    },
    {
      "cell_type": "code",
      "metadata": {
        "id": "5X2HYqzgVn18"
      },
      "source": [
        "print(len(flattened_AAL_MidPrice))\n",
        "print(len(flattened_GOOG_MidPrice))    #FB has data available until Dec 7, but AAL has until Dec 31\n",
        "timestamp = []\n",
        "for i in range(len(GOOG_BuyPrice)):\n",
        "  for j in range(len(GOOG_BuyPrice[i])-1):\n",
        "    timestamp.append(j)"
      ],
      "execution_count": null,
      "outputs": []
    },
    {
      "cell_type": "code",
      "metadata": {
        "colab": {
          "base_uri": "https://localhost:8080/"
        },
        "id": "x12ZB-JDX6YP",
        "outputId": "d770d8cd-f61e-40cb-e5ec-ac550a8a3fa9"
      },
      "source": [
        "print(len(timestamp))"
      ],
      "execution_count": 13,
      "outputs": [
        {
          "output_type": "stream",
          "text": [
            "2246304\n"
          ],
          "name": "stdout"
        }
      ]
    },
    {
      "cell_type": "code",
      "metadata": {
        "id": "e9XeKYG9VZ8o"
      },
      "source": [
        "import pandas as pd\n",
        "data = {'Time': timestamp, \n",
        "        'AAL': flattened_AAL_MidPrice[:2246304],\n",
        "        'GOOG': flattened_GOOG_MidPrice}\n",
        "  \n",
        "# Convert the dictionary into DataFrame \n",
        "data = pd.DataFrame(data) "
      ],
      "execution_count": 19,
      "outputs": []
    },
    {
      "cell_type": "code",
      "metadata": {
        "id": "lh0_kA2PYLXP"
      },
      "source": [
        "import matplotlib.pyplot as plt\n",
        "\n",
        "fig = plt.figure(figsize=(30,5))\n",
        "plt.plot(flattened_AAL_MidPrice[:500])\n",
        "plt.plot(flattened_GOOG_MidPrice[:500])\n",
        "plt.legend([\"AAL\",\"GOOG\"])"
      ],
      "execution_count": null,
      "outputs": []
    },
    {
      "cell_type": "code",
      "metadata": {
        "id": "SUnFZ3FlnmmV"
      },
      "source": [
        "def split_into_days(df,timestamp):\n",
        "  days = []\n",
        "  record = 0\n",
        "  for i in range(len(timestamp)-1):\n",
        "    if timestamp[i]>timestamp[i+1]:\n",
        "      days.append(df.iloc[record:i+1])\n",
        "      record = i+1\n",
        "  return days\n",
        "def pooling(df, pooling_factor):\n",
        "  temp = df.iloc[len(df)%pooling_factor:]\n",
        "  \n",
        "  pooled_AAL_MidPrice = []\n",
        "  pooled_FB_MidPrice = []\n",
        "  pooled_timestamp = []\n",
        "  for i in range(int(len(temp)/pooling_factor)-1):\n",
        "    \n",
        "    pooled_AAL_MidPrice.append(np.mean(list(df['AAL'])[i*pooling_factor:(i+1)*pooling_factor]))\n",
        "    pooled_FB_MidPrice.append(np.mean(list(df['GOOG'])[i*pooling_factor:(i+1)*pooling_factor]))\n",
        "\n",
        "    pooled_timestamp.append(i)\n",
        "  \n",
        "  result = {'Time': pooled_timestamp, \n",
        "        #'BuyPrice': normalized_BuyPrice,\n",
        "        #'SellPrice' : normalized_SellPrice,\n",
        "        #'NumberBuyOrder': flattened_NumberBuyOrder,\n",
        "        # 'BuyVolume': pooled_BuyVolume,\n",
        "        # 'SellVolume': pooled_SellVolume,\n",
        "        'AAL': pooled_AAL_MidPrice, \n",
        "        'GOOG': pooled_FB_MidPrice}\n",
        "  result = pd.DataFrame(result) \n",
        "\n",
        "  return result\n",
        "\n",
        "def normalize_0_1(df):\n",
        "\n",
        "  result_AAL = []\n",
        "  result_FB = []\n",
        "  AAL_max = np.max(list(df['AAL']))\n",
        "  AAL_min = np.min(list(df['AAL']))\n",
        "  FB_max = np.max(list(df['GOOG']))\n",
        "  FB_min = np.min(list(df['GOOG']))\n",
        "\n",
        "  for elem in list(df['AAL']):\n",
        "    result_AAL.append((elem - AAL_min)/(AAL_max-AAL_min))\n",
        "  for elem in list(df['GOOG']):\n",
        "    result_FB.append((elem - FB_min)/(FB_max-FB_min))\n",
        "  new_df = {'Time': list(df['Time']), \n",
        "        # 'BuyPrice': flattened_BuyPrice,\n",
        "        # 'SellPrice' : flattened_SellPrice,\n",
        "        # #'NumberBuyOrder': flattened_NumberBuyOrder,\n",
        "        # 'BuyVolume': flattened_NumberBuyVolume,\n",
        "        # 'SellVolume': flattened_NumberSellVolume,\n",
        "        'AAL': result_AAL,\n",
        "        'GOOG': result_FB}\n",
        "  data = pd.DataFrame(new_df) \n",
        "  return data"
      ],
      "execution_count": 20,
      "outputs": []
    },
    {
      "cell_type": "code",
      "metadata": {
        "colab": {
          "base_uri": "https://localhost:8080/"
        },
        "id": "Kl-4w1JRojOi",
        "outputId": "953a0e9c-a144-446d-ef48-a3b98d8acb43"
      },
      "source": [
        "splitted_data = split_into_days(data,timestamp)\n",
        "splitted_data_pooled = []\n",
        "i=0\n",
        "for dataset in splitted_data:\n",
        "  i+=1\n",
        "  print(\"percentage done: \", i/len(splitted_data))\n",
        "  splitted_data_pooled.append(normalize_0_1(pooling(dataset,30)))"
      ],
      "execution_count": 21,
      "outputs": [
        {
          "output_type": "stream",
          "text": [
            "percentage done:  0.010526315789473684\n",
            "percentage done:  0.021052631578947368\n",
            "percentage done:  0.031578947368421054\n",
            "percentage done:  0.042105263157894736\n",
            "percentage done:  0.05263157894736842\n",
            "percentage done:  0.06315789473684211\n",
            "percentage done:  0.07368421052631578\n",
            "percentage done:  0.08421052631578947\n",
            "percentage done:  0.09473684210526316\n",
            "percentage done:  0.10526315789473684\n",
            "percentage done:  0.11578947368421053\n",
            "percentage done:  0.12631578947368421\n",
            "percentage done:  0.1368421052631579\n",
            "percentage done:  0.14736842105263157\n",
            "percentage done:  0.15789473684210525\n",
            "percentage done:  0.16842105263157894\n",
            "percentage done:  0.17894736842105263\n",
            "percentage done:  0.18947368421052632\n",
            "percentage done:  0.2\n",
            "percentage done:  0.21052631578947367\n",
            "percentage done:  0.22105263157894736\n",
            "percentage done:  0.23157894736842105\n",
            "percentage done:  0.24210526315789474\n",
            "percentage done:  0.25263157894736843\n",
            "percentage done:  0.2631578947368421\n",
            "percentage done:  0.2736842105263158\n",
            "percentage done:  0.28421052631578947\n",
            "percentage done:  0.29473684210526313\n",
            "percentage done:  0.30526315789473685\n",
            "percentage done:  0.3157894736842105\n",
            "percentage done:  0.3263157894736842\n",
            "percentage done:  0.3368421052631579\n",
            "percentage done:  0.3473684210526316\n",
            "percentage done:  0.35789473684210527\n",
            "percentage done:  0.3684210526315789\n",
            "percentage done:  0.37894736842105264\n",
            "percentage done:  0.3894736842105263\n",
            "percentage done:  0.4\n",
            "percentage done:  0.4105263157894737\n",
            "percentage done:  0.42105263157894735\n",
            "percentage done:  0.43157894736842106\n",
            "percentage done:  0.4421052631578947\n",
            "percentage done:  0.45263157894736844\n",
            "percentage done:  0.4631578947368421\n",
            "percentage done:  0.47368421052631576\n",
            "percentage done:  0.4842105263157895\n",
            "percentage done:  0.49473684210526314\n",
            "percentage done:  0.5052631578947369\n",
            "percentage done:  0.5157894736842106\n",
            "percentage done:  0.5263157894736842\n",
            "percentage done:  0.5368421052631579\n",
            "percentage done:  0.5473684210526316\n",
            "percentage done:  0.5578947368421052\n",
            "percentage done:  0.5684210526315789\n",
            "percentage done:  0.5789473684210527\n",
            "percentage done:  0.5894736842105263\n",
            "percentage done:  0.6\n",
            "percentage done:  0.6105263157894737\n",
            "percentage done:  0.6210526315789474\n",
            "percentage done:  0.631578947368421\n",
            "percentage done:  0.6421052631578947\n",
            "percentage done:  0.6526315789473685\n",
            "percentage done:  0.6631578947368421\n",
            "percentage done:  0.6736842105263158\n",
            "percentage done:  0.6842105263157895\n",
            "percentage done:  0.6947368421052632\n",
            "percentage done:  0.7052631578947368\n",
            "percentage done:  0.7157894736842105\n",
            "percentage done:  0.7263157894736842\n",
            "percentage done:  0.7368421052631579\n",
            "percentage done:  0.7473684210526316\n",
            "percentage done:  0.7578947368421053\n",
            "percentage done:  0.7684210526315789\n",
            "percentage done:  0.7789473684210526\n",
            "percentage done:  0.7894736842105263\n",
            "percentage done:  0.8\n",
            "percentage done:  0.8105263157894737\n",
            "percentage done:  0.8210526315789474\n",
            "percentage done:  0.8315789473684211\n",
            "percentage done:  0.8421052631578947\n",
            "percentage done:  0.8526315789473684\n",
            "percentage done:  0.8631578947368421\n",
            "percentage done:  0.8736842105263158\n",
            "percentage done:  0.8842105263157894\n",
            "percentage done:  0.8947368421052632\n",
            "percentage done:  0.9052631578947369\n",
            "percentage done:  0.9157894736842105\n",
            "percentage done:  0.9263157894736842\n",
            "percentage done:  0.9368421052631579\n",
            "percentage done:  0.9473684210526315\n",
            "percentage done:  0.9578947368421052\n",
            "percentage done:  0.968421052631579\n",
            "percentage done:  0.9789473684210527\n",
            "percentage done:  0.9894736842105263\n",
            "percentage done:  1.0\n"
          ],
          "name": "stdout"
        }
      ]
    },
    {
      "cell_type": "markdown",
      "metadata": {
        "id": "sEcHMwM5ZsWi"
      },
      "source": [
        "#Co-integration Test\n",
        "\n",
        "The following codes calculate the p-value for the cointegration test, and the null hypothesis is no cointegration. \n",
        "\n",
        "Only correlation is not sufficient here because sometimes we could find a correlated but not cointegrated price relationship. e.g. if two stock prices go up together over time, they are positively correlated. However, if these two stocks trend up in different speeds, the price spread will keep growing rather than oscillating at the equilibrium and hence is non-stationary.\n"
      ]
    },
    {
      "cell_type": "code",
      "metadata": {
        "colab": {
          "base_uri": "https://localhost:8080/"
        },
        "id": "b6NSZXEOaOhi",
        "outputId": "1b491073-746c-4188-c4c3-b7b340ea173a"
      },
      "source": [
        "import pandas as pd\n",
        "import numpy as np\n",
        "import scipy\n",
        "import seaborn as sns\n",
        "import matplotlib.pyplot as plt\n",
        "import os\n",
        "from functools import reduce\n",
        "from statsmodels.tsa.stattools import coint"
      ],
      "execution_count": 22,
      "outputs": [
        {
          "output_type": "stream",
          "text": [
            "/usr/local/lib/python3.6/dist-packages/statsmodels/tools/_testing.py:19: FutureWarning: pandas.util.testing is deprecated. Use the functions in the public API at pandas.testing instead.\n",
            "  import pandas.util.testing as tm\n"
          ],
          "name": "stderr"
        }
      ]
    },
    {
      "cell_type": "code",
      "metadata": {
        "colab": {
          "base_uri": "https://localhost:8080/",
          "height": 268
        },
        "id": "StfZvtYeux3K",
        "outputId": "478dab62-45ba-4329-9fb3-c0e8dbd448d5"
      },
      "source": [
        "def plot_spread(df, ticker1, ticker2, idx, th, stop):\n",
        "  \n",
        "    px1 = df[ticker1].iloc[idx] / df[ticker1].iloc[idx[0]]\n",
        "    px2 = df[ticker2].iloc[idx] / df[ticker2].iloc[idx[0]]\n",
        "\n",
        "    sns.set(style='white')\n",
        "    \n",
        "    # Set plotting figure\n",
        "    fig, ax = plt.subplots(2, 1, gridspec_kw={'height_ratios': [2, 1]})\n",
        "    \n",
        "    # Plot the 1st subplot\n",
        "    sns.lineplot(data=[px1, px2], linewidth=1.2, ax=ax[0])\n",
        "    ax[0].legend(loc='upper left')\n",
        "    \n",
        "    # Calculate the spread and other thresholds\n",
        "    spread = df[ticker1].iloc[idx] - df[ticker2].iloc[idx]\n",
        "    mean_spread = spread.mean()\n",
        "    sell_th     = mean_spread + th\n",
        "    buy_th      = mean_spread - th\n",
        "    sell_stop   = mean_spread + stop\n",
        "    buy_stop    = mean_spread - stop\n",
        "    \n",
        "    # Plot the 2nd subplot\n",
        "    sns.lineplot(data=spread, color='#85929E', ax=ax[1], linewidth=1.2)\n",
        "    ax[1].axhline(sell_th,   color='b', ls='--', linewidth=1, label='sell_th')\n",
        "    ax[1].axhline(buy_th,    color='r', ls='--', linewidth=1, label='buy_th')\n",
        "    ax[1].axhline(sell_stop, color='g', ls='--', linewidth=1, label='sell_stop')\n",
        "    ax[1].axhline(buy_stop,  color='y', ls='--', linewidth=1, label='buy_stop')\n",
        "    ax[1].fill_between(idx, sell_th, buy_th, facecolors='r', alpha=0.3)\n",
        "    ax[1].legend(loc='upper left', labels=['Spread', 'sell_th', 'buy_th', 'sell_stop', 'buy_stop'], prop={'size':6.5})\n",
        "    \n",
        "idx = range(0, 777)\n",
        "plot_spread(splitted_data_pooled[0], 'AAL', 'GOOG', idx, 0.5, 1)\n"
      ],
      "execution_count": 23,
      "outputs": [
        {
          "output_type": "display_data",
          "data": {
            "image/png": "[encoded data removed]",
            "text/plain": [
              "<Figure size 432x288 with 2 Axes>"
            ]
          },
          "metadata": {
            "tags": []
          }
        }
      ]
    },
    {
      "cell_type": "markdown",
      "metadata": {
        "id": "2JF8hP1SyLOp"
      },
      "source": [
        "\n",
        "**Marginal Distributions**: \n",
        "If we look into the their marginal distributions, the linear relationship is recognized. (We can also found some clusters as well which maybe useful) "
      ]
    },
    {
      "cell_type": "code",
      "metadata": {
        "colab": {
          "base_uri": "https://localhost:8080/",
          "height": 508
        },
        "id": "vftsr_eEtkUJ",
        "outputId": "13344160-5e8c-46b7-fbf3-6482ad029a5f"
      },
      "source": [
        "sns.set(style='darkgrid')\n",
        "sns.jointplot(flattened_AAL_MidPrice[:2246304], flattened_GOOG_MidPrice,  kind='hex', color='#2874A6')"
      ],
      "execution_count": 30,
      "outputs": [
        {
          "output_type": "stream",
          "text": [
            "/usr/local/lib/python3.6/dist-packages/seaborn/_decorators.py:43: FutureWarning: Pass the following variables as keyword args: x, y. From version 0.12, the only valid positional argument will be `data`, and passing other arguments without an explicit keyword will result in an error or misinterpretation.\n",
            "  FutureWarning\n"
          ],
          "name": "stderr"
        },
        {
          "output_type": "execute_result",
          "data": {
            "text/plain": [
              "<seaborn.axisgrid.JointGrid at 0x7f37b1f86240>"
            ]
          },
          "metadata": {
            "tags": []
          },
          "execution_count": 30
        },
        {
          "output_type": "display_data",
          "data": {
            "image/png": "[encoded data removed]",
            "text/plain": [
              "<Figure size 432x432 with 3 Axes>"
            ]
          },
          "metadata": {
            "tags": []
          }
        }
      ]
    },
    {
      "cell_type": "markdown",
      "metadata": {
        "id": "G10BfXNhvzcH"
      },
      "source": [
        "Here I use $coint$, which is effectively the Engle-Granger two-step cointegration test. It tests for the residuals of an estimated cointegrating pairs (2 time series inputs) with I(1). \n",
        "\n",
        "The idea here is linked to a concept in time series analysis called **stationarity**. \n",
        "\n",
        "Strong-Form: Joint distribution same, that is $P(x_1, x_2, ..., x_k) = P(x_{1+h},x_{2+h}, ..., x_{k+h}) \\forall k, h$. This is unrealistic... \n",
        "\n",
        "\n",
        "Weak-Form: more applicable in financial time series with the following criteria:\n",
        "\n",
        "\n",
        "1.   Expected value of random variable x, i.e. E[x(t)], is independent of time t\n",
        "2.   Variance Var(x(t)) is a time-independent positive and finite constant\n",
        "3.   Covariance Cov(x(t),x(s)) is finite and related to the time difference t-s, but neither t nor s\n",
        "\n",
        "If a time series becomes stationary after first differencing, it is so called integrated of order one I(1)."
      ]
    },
    {
      "cell_type": "code",
      "metadata": {
        "id": "I_kXWsf4aFBe"
      },
      "source": [
        "p_values = []\n",
        "for data in splitted_data_pooled:\n",
        "  x = data['AAL']\n",
        "  #print(x)\n",
        "  y = data['GOOG']\n",
        "  #print(y)\n",
        "  _, p_value, _ = coint(x, y)\n",
        "  p_values.append(p_value)"
      ],
      "execution_count": 34,
      "outputs": []
    },
    {
      "cell_type": "code",
      "metadata": {
        "colab": {
          "base_uri": "https://localhost:8080/",
          "height": 285
        },
        "id": "u0Fgb6EQqEU6",
        "outputId": "a4eaf595-6c67-434d-afce-5943c4944143"
      },
      "source": [
        "plt.hist(p_values, color = 'blue', edgecolor = 'black',\n",
        "         bins = 15)\n",
        "print('The p_value of AAL-GOOG pair cointegration is: {}'.format(np.mean(p_values)))"
      ],
      "execution_count": 35,
      "outputs": [
        {
          "output_type": "stream",
          "text": [
            "The p_value of AAL-GOOG pair cointegration is: 0.349756910496307\n"
          ],
          "name": "stdout"
        },
        {
          "output_type": "display_data",
          "data": {
            "image/png": "[encoded data removed]",
            "text/plain": [
              "<Figure size 432x288 with 1 Axes>"
            ]
          },
          "metadata": {
            "tags": []
          }
        }
      ]
    }
  ]
}