{
  "nbformat": 4,
  "nbformat_minor": 0,
  "metadata": {
    "colab": {
      "name": "Pair Trading.ipynb",
      "provenance": [],
      "authorship_tag": "ABX9TyNf+zZRVOV56DmeKTeQmxQR",
      "include_colab_link": true
    },
    "kernelspec": {
      "name": "python3",
      "display_name": "Python 3"
    }
  },
  "cells": [
    {
      "cell_type": "markdown",
      "metadata": {
        "id": "view-in-github",
        "colab_type": "text"
      },
      "source": [
        "<a href=\"https://colab.research.google.com/github/ThatManRong/RL_Thesis/blob/Pair-Trading/AAL-FB.ipynb\" target=\"_parent\"><img src=\"https://colab.research.google.com/assets/colab-badge.svg\" alt=\"Open In Colab\"/></a>"
      ]
    },
    {
      "cell_type": "code",
      "metadata": {
        "colab": {
          "base_uri": "https://localhost:8080/"
        },
        "id": "ZWbz3TRpJMr6",
        "outputId": "2cff2484-52ec-41a1-9e55-ebcb72cf1cff"
      },
      "source": [
        "from google.colab import drive\n",
        "drive.mount('/content/drive')"
      ],
      "execution_count": 1,
      "outputs": [
        {
          "output_type": "stream",
          "text": [
            "Drive already mounted at /content/drive; to attempt to forcibly remount, call drive.mount(\"/content/drive\", force_remount=True).\n"
          ],
          "name": "stdout"
        }
      ]
    },
    {
      "cell_type": "code",
      "metadata": {
        "id": "MXQJRDAFM6Si"
      },
      "source": [
        "from scipy.io import loadmat\n",
        "import math\n",
        "import statistics\n",
        "import os\n"
      ],
      "execution_count": 2,
      "outputs": []
    },
    {
      "cell_type": "code",
      "metadata": {
        "id": "2r9Ju3-GNYx4"
      },
      "source": [
        "dataDir = '/content/drive/My Drive/Colab Notebooks/AAL/'\n",
        "mats_AAL = []\n",
        "for file in os.listdir( dataDir ) :\n",
        "    mats_AAL.append(loadmat( dataDir+file ) )\n",
        "\n",
        "dataDir = '/content/drive/My Drive/Colab Notebooks/FB/'\n",
        "mats_FB = []\n",
        "for file in os.listdir( dataDir ) :\n",
        "    mats_FB.append(loadmat( dataDir+file ) )\n",
        "\n",
        "# dataDir = '/content/drive/My Drive/Colab Notebooks/GOOG/'\n",
        "# mats_GOOG = []\n",
        "# for file in os.listdir( dataDir ) :\n",
        "#     mats_GOOG.append(loadmat( dataDir+file ) )\n",
        "  \n",
        "# dataDir = '/content/drive/My Drive/Colab Notebooks/SIRI/'\n",
        "# mats_SIRI = []\n",
        "# for file in os.listdir( dataDir ) :\n",
        "#     mats_SIRI.append(loadmat( dataDir+file ) )\n",
        "\n",
        "# dataDir = '/content/drive/My Drive/Colab Notebooks/INTC/'\n",
        "# mats_INTC = []\n",
        "# for file in os.listdir( dataDir ) :\n",
        "#     mats_INTC.append(loadmat( dataDir+file ) )\n",
        "\n",
        "# dataDir = '/content/drive/My Drive/Colab Notebooks/VOD/'\n",
        "# mats_VOD = []\n",
        "# for file in os.listdir( dataDir ) :\n",
        "#     mats_VOD.append(loadmat( dataDir+file ) )"
      ],
      "execution_count": 3,
      "outputs": []
    },
    {
      "cell_type": "code",
      "metadata": {
        "id": "5DNzlLOBPGJP"
      },
      "source": [
        "import numpy as np\n",
        "AAL_BuyPrice = []\n",
        "AAL_SellPrice = []\n",
        "FB_BuyPrice = []\n",
        "FB_SellPrice = []\n",
        "GOOG_BuyPrice = []\n",
        "GOOG_SellPrice = []\n",
        "SIRI_BuyPrice = []\n",
        "SIRI_SellPrice = []\n",
        "INTC_BuyPrice = []\n",
        "INTC_SellPrice = []\n",
        "VOD_BuyPrice = []\n",
        "VOD_SellPrice = []\n",
        "#master_time = []\n",
        "for i in range(len(mats_AAL)):\n",
        "  #master_time.append(np.array(mats[i]['data']['EventTime'][0][0]))\n",
        "  AAL_BuyPrice.append(np.array(mats_AAL[i]['data']['BuyPrice'][0][0]))\n",
        "  AAL_SellPrice.append(np.array(mats_AAL[i]['data']['SellPrice'][0][0]))\n",
        "\n",
        "for i in range(len(mats_FB)):\n",
        "  #master_time.append(np.array(mats[i]['data']['EventTime'][0][0]))\n",
        "  FB_BuyPrice.append(np.array(mats_FB[i]['data']['BuyPrice'][0][0]))\n",
        "  FB_SellPrice.append(np.array(mats_FB[i]['data']['SellPrice'][0][0]))\n",
        "\n",
        "# for i in range(len(mats_GOOG)):\n",
        "#   #master_time.append(np.array(mats[i]['data']['EventTime'][0][0]))\n",
        "#   GOOG_BuyPrice.append(np.array(mats_GOOG[i]['data']['BuyPrice'][0][0]))\n",
        "#   GOOG_SellPrice.append(np.array(mats_GOOG[i]['data']['SellPrice'][0][0]))\n",
        "\n",
        "# for i in range(len(mats_SIRI)):\n",
        "#   #master_time.append(np.array(mats[i]['data']['EventTime'][0][0]))\n",
        "#   SIRI_BuyPrice.append(np.array(mats_SIRI[i]['data']['BuyPrice'][0][0]))\n",
        "#   SIRI_SellPrice.append(np.array(mats_SIRI[i]['data']['SellPrice'][0][0]))\n",
        "\n",
        "# for i in range(len(mats_INTC)):\n",
        "#   #master_time.append(np.array(mats[i]['data']['EventTime'][0][0]))\n",
        "#   INTC_BuyPrice.append(np.array(mats_INTC[i]['data']['BuyPrice'][0][0]))\n",
        "#   INTC_SellPrice.append(np.array(mats_INTC[i]['data']['SellPrice'][0][0]))\n",
        "\n",
        "# for i in range(len(mats_VOD)):\n",
        "#   #master_time.append(np.array(mats[i]['data']['EventTime'][0][0]))\n",
        "#   VOD_BuyPrice.append(np.array(mats_VOD[i]['data']['BuyPrice'][0][0]))\n",
        "#   VOD_SellPrice.append(np.array(mats_VOD[i]['data']['SellPrice'][0][0]))"
      ],
      "execution_count": 4,
      "outputs": []
    },
    {
      "cell_type": "code",
      "metadata": {
        "colab": {
          "base_uri": "https://localhost:8080/"
        },
        "id": "dUNgfZuMY12E",
        "outputId": "028ded6a-0195-4d37-8f0e-f3b78ac8bcda"
      },
      "source": [
        "print(AAL_BuyPrice[0])"
      ],
      "execution_count": 5,
      "outputs": [
        {
          "output_type": "stream",
          "text": [
            "[[544000 543000 542900 ... 517600 516800 512000]\n",
            " [544000 543900 543800 ... 537300 536300 536100]\n",
            " [544100 544000 543900 ... 538700 537700 537300]\n",
            " ...\n",
            " [542500 542400 542300 ... 540700 540600 540500]\n",
            " [542500 542400 542300 ... 540700 540600 540500]\n",
            " [     0      0      0 ...      0      0      0]]\n"
          ],
          "name": "stdout"
        }
      ]
    },
    {
      "cell_type": "code",
      "metadata": {
        "id": "ug5cTjXfSSmF"
      },
      "source": [
        "def clear_master(master):\n",
        "  result = master\n",
        "  for i in range(len(master)):\n",
        "    if len(master[i]) != 23400:\n",
        "      print(len(master[i]))\n",
        "      del result[i]\n",
        "  return result\n",
        "\n",
        "def flatten_master(master, price_indicator):\n",
        "  if price_indicator == True:\n",
        "    result = []\n",
        "    for i in range(len(master)):\n",
        "      #print('Percent Done: ', i/len(master))\n",
        "      for j in range(len(master[i])-1):\n",
        "        #for k in range(len(master[0][0])):\n",
        "        result.append((master[i][j][0]-master[i][0][0])/10000)   #Price difference between spot price and price of the beginning. \n",
        "  if price_indicator == False:\n",
        "    result = []\n",
        "    for i in range(len(master)):\n",
        "      for j in range(len(master[0])-1):\n",
        "        #for k in range(len(master[0][0])):\n",
        "        result.append(master[i][j][0])\n",
        "  return result\n"
      ],
      "execution_count": 6,
      "outputs": []
    },
    {
      "cell_type": "code",
      "metadata": {
        "id": "faxI7qM4Uxvn"
      },
      "source": [
        "#abc = clear_master(AAL_BuyPrice)\n",
        "flattened_AAL_BuyPrice = flatten_master(AAL_BuyPrice, price_indicator = True) \n",
        "flattened_AAL_SellPrice = flatten_master(AAL_BuyPrice, price_indicator = True) \n",
        "flattened_AAL_MidPrice = []\n",
        "for i in range(len(flattened_AAL_BuyPrice)):\n",
        "  flattened_AAL_MidPrice.append(0.5*flattened_AAL_BuyPrice[i]+0.5*flattened_AAL_SellPrice[i])"
      ],
      "execution_count": 7,
      "outputs": []
    },
    {
      "cell_type": "code",
      "metadata": {
        "id": "TOxzAeYgRKV5"
      },
      "source": [
        "#abc = clear_master(FB_BuyPrice)\n",
        "flattened_FB_BuyPrice = flatten_master(FB_BuyPrice, price_indicator = True) \n",
        "flattened_FB_SellPrice = flatten_master(FB_BuyPrice, price_indicator = True) \n",
        "flattened_FB_MidPrice = []\n",
        "for i in range(len(flattened_FB_BuyPrice)):\n",
        "  flattened_FB_MidPrice.append(0.5*flattened_FB_BuyPrice[i]+0.5*flattened_FB_SellPrice[i])"
      ],
      "execution_count": 8,
      "outputs": []
    },
    {
      "cell_type": "code",
      "metadata": {
        "colab": {
          "base_uri": "https://localhost:8080/"
        },
        "id": "5X2HYqzgVn18",
        "outputId": "10e143fd-e9b7-4c4a-ea30-44d40f78b068"
      },
      "source": [
        "print(len(flattened_AAL_MidPrice))\n",
        "print(len(flattened_FB_MidPrice))    #FB has data available until Dec 7, but AAL has until Dec 31\n",
        "timestamp = []\n",
        "for i in range(len(FB_BuyPrice)):\n",
        "  for j in range(len(FB_BuyPrice[i])-1):\n",
        "    timestamp.append(j)"
      ],
      "execution_count": 9,
      "outputs": [
        {
          "output_type": "stream",
          "text": [
            "5869588\n",
            "5475240\n"
          ],
          "name": "stdout"
        }
      ]
    },
    {
      "cell_type": "code",
      "metadata": {
        "colab": {
          "base_uri": "https://localhost:8080/"
        },
        "id": "x12ZB-JDX6YP",
        "outputId": "c23dbacf-96e6-498f-a1ef-7fe354dd8ad7"
      },
      "source": [
        "print(len(timestamp))"
      ],
      "execution_count": 10,
      "outputs": [
        {
          "output_type": "stream",
          "text": [
            "5475240\n"
          ],
          "name": "stdout"
        }
      ]
    },
    {
      "cell_type": "code",
      "metadata": {
        "id": "e9XeKYG9VZ8o"
      },
      "source": [
        "import pandas as pd\n",
        "data = {'Time': timestamp, \n",
        "        'AAL': flattened_AAL_MidPrice[:5475240],\n",
        "        'FB': flattened_FB_MidPrice}\n",
        "  \n",
        "# Convert the dictionary into DataFrame \n",
        "data = pd.DataFrame(data) "
      ],
      "execution_count": 11,
      "outputs": []
    },
    {
      "cell_type": "code",
      "metadata": {
        "id": "lh0_kA2PYLXP"
      },
      "source": [
        "import matplotlib.pyplot as plt\n",
        "\n",
        "fig = plt.figure(figsize=(30,5))\n",
        "plt.plot(flattened_AAL_MidPrice[:500])\n",
        "plt.plot(flattened_FB_MidPrice[:500])\n",
        "plt.legend([\"AAL\",\"FB\"])"
      ],
      "execution_count": null,
      "outputs": []
    },
    {
      "cell_type": "code",
      "metadata": {
        "id": "SUnFZ3FlnmmV"
      },
      "source": [
        "def split_into_days(df,timestamp):\n",
        "  days = []\n",
        "  record = 0\n",
        "  for i in range(len(timestamp)-1):\n",
        "    if timestamp[i]>timestamp[i+1]:\n",
        "      days.append(df.iloc[record:i+1])\n",
        "      record = i+1\n",
        "  return days\n",
        "def pooling(df, pooling_factor):\n",
        "  temp = df.iloc[len(df)%pooling_factor:]\n",
        "  \n",
        "  pooled_AAL_MidPrice = []\n",
        "  pooled_FB_MidPrice = []\n",
        "  pooled_timestamp = []\n",
        "  for i in range(int(len(temp)/pooling_factor)-1):\n",
        "    \n",
        "    pooled_AAL_MidPrice.append(np.mean(list(df['AAL'])[i*pooling_factor:(i+1)*pooling_factor]))\n",
        "    pooled_FB_MidPrice.append(np.mean(list(df['FB'])[i*pooling_factor:(i+1)*pooling_factor]))\n",
        "\n",
        "    pooled_timestamp.append(i)\n",
        "  \n",
        "  result = {'Time': pooled_timestamp, \n",
        "        #'BuyPrice': normalized_BuyPrice,\n",
        "        #'SellPrice' : normalized_SellPrice,\n",
        "        #'NumberBuyOrder': flattened_NumberBuyOrder,\n",
        "        # 'BuyVolume': pooled_BuyVolume,\n",
        "        # 'SellVolume': pooled_SellVolume,\n",
        "        'AAL': pooled_AAL_MidPrice, \n",
        "        'FB': pooled_FB_MidPrice}\n",
        "  result = pd.DataFrame(result) \n",
        "\n",
        "  return result\n",
        "\n",
        "def normalize_0_1(df):\n",
        "\n",
        "  result_AAL = []\n",
        "  result_FB = []\n",
        "  AAL_max = np.max(list(df['AAL']))\n",
        "  AAL_min = np.min(list(df['AAL']))\n",
        "  FB_max = np.max(list(df['FB']))\n",
        "  FB_min = np.min(list(df['FB']))\n",
        "\n",
        "  for elem in list(df['AAL']):\n",
        "    result_AAL.append((elem - AAL_min)/(AAL_max-AAL_min))\n",
        "  for elem in list(df['FB']):\n",
        "    result_FB.append((elem - FB_min)/(FB_max-FB_min))\n",
        "  new_df = {'Time': list(df['Time']), \n",
        "        # 'BuyPrice': flattened_BuyPrice,\n",
        "        # 'SellPrice' : flattened_SellPrice,\n",
        "        # #'NumberBuyOrder': flattened_NumberBuyOrder,\n",
        "        # 'BuyVolume': flattened_NumberBuyVolume,\n",
        "        # 'SellVolume': flattened_NumberSellVolume,\n",
        "        'AAL': result_AAL,\n",
        "        'FB': result_FB}\n",
        "  data = pd.DataFrame(new_df) \n",
        "  return data"
      ],
      "execution_count": 25,
      "outputs": []
    },
    {
      "cell_type": "code",
      "metadata": {
        "id": "Kl-4w1JRojOi"
      },
      "source": [
        "splitted_data = split_into_days(data,timestamp)\n",
        "splitted_data_pooled = []\n",
        "i=0\n",
        "for dataset in splitted_data:\n",
        "  i+=1\n",
        "  print(\"percentage done: \", i/len(splitted_data))\n",
        "  splitted_data_pooled.append(normalize_0_1(pooling(dataset,30)))"
      ],
      "execution_count": null,
      "outputs": []
    },
    {
      "cell_type": "markdown",
      "metadata": {
        "id": "sEcHMwM5ZsWi"
      },
      "source": [
        "#Co-integration Test\n",
        "\n",
        "The following codes calculate the p-value for the cointegration test, and the null hypothesis is no cointegration. \n",
        "\n",
        "Only correlation is not sufficient here because sometimes we could find a correlated but not cointegrated price relationship. e.g. if two stock prices go up together over time, they are positively correlated. However, if these two stocks trend up in different speeds, the price spread will keep growing rather than oscillating at the equilibrium and hence is non-stationary.\n"
      ]
    },
    {
      "cell_type": "code",
      "metadata": {
        "id": "b6NSZXEOaOhi"
      },
      "source": [
        "import pandas as pd\n",
        "import numpy as np\n",
        "import scipy\n",
        "import seaborn as sns\n",
        "import matplotlib.pyplot as plt\n",
        "import os\n",
        "from functools import reduce\n",
        "from statsmodels.tsa.stattools import coint"
      ],
      "execution_count": 27,
      "outputs": []
    },
    {
      "cell_type": "code",
      "metadata": {
        "colab": {
          "base_uri": "https://localhost:8080/",
          "height": 268
        },
        "id": "StfZvtYeux3K",
        "outputId": "2aedc6f9-1d5f-4352-b9c0-c51188b782bb"
      },
      "source": [
        "def plot_spread(df, ticker1, ticker2, idx, th, stop):\n",
        "  \n",
        "    px1 = df[ticker1].iloc[idx] / df[ticker1].iloc[idx[0]]\n",
        "    px2 = df[ticker2].iloc[idx] / df[ticker2].iloc[idx[0]]\n",
        "\n",
        "    sns.set(style='white')\n",
        "    \n",
        "    # Set plotting figure\n",
        "    fig, ax = plt.subplots(2, 1, gridspec_kw={'height_ratios': [2, 1]})\n",
        "    \n",
        "    # Plot the 1st subplot\n",
        "    sns.lineplot(data=[px1, px2], linewidth=1.2, ax=ax[0])\n",
        "    ax[0].legend(loc='upper left')\n",
        "    \n",
        "    # Calculate the spread and other thresholds\n",
        "    spread = df[ticker1].iloc[idx] - df[ticker2].iloc[idx]\n",
        "    mean_spread = spread.mean()\n",
        "    sell_th     = mean_spread + th\n",
        "    buy_th      = mean_spread - th\n",
        "    sell_stop   = mean_spread + stop\n",
        "    buy_stop    = mean_spread - stop\n",
        "    \n",
        "    # Plot the 2nd subplot\n",
        "    sns.lineplot(data=spread, color='#85929E', ax=ax[1], linewidth=1.2)\n",
        "    ax[1].axhline(sell_th,   color='b', ls='--', linewidth=1, label='sell_th')\n",
        "    ax[1].axhline(buy_th,    color='r', ls='--', linewidth=1, label='buy_th')\n",
        "    ax[1].axhline(sell_stop, color='g', ls='--', linewidth=1, label='sell_stop')\n",
        "    ax[1].axhline(buy_stop,  color='y', ls='--', linewidth=1, label='buy_stop')\n",
        "    ax[1].fill_between(idx, sell_th, buy_th, facecolors='r', alpha=0.3)\n",
        "    ax[1].legend(loc='upper left', labels=['Spread', 'sell_th', 'buy_th', 'sell_stop', 'buy_stop'], prop={'size':6.5})\n",
        "    \n",
        "idx = range(0, 777)\n",
        "plot_spread(splitted_data_pooled[0], 'AAL', 'FB', idx, 0.5, 1)\n"
      ],
      "execution_count": 50,
      "outputs": [
        {
          "output_type": "display_data",
          "data": {
            "image/png": "[encoded data removed]",
            "text/plain": [
              "<Figure size 432x288 with 2 Axes>"
            ]
          },
          "metadata": {
            "tags": []
          }
        }
      ]
    },
    {
      "cell_type": "markdown",
      "metadata": {
        "id": "2JF8hP1SyLOp"
      },
      "source": [
        "\n",
        "**Marginal Distributions**: \n",
        "If we look into the their marginal distributions, the linear relationship is recognized. (We can also found some clusters as well which maybe useful) "
      ]
    },
    {
      "cell_type": "code",
      "metadata": {
        "colab": {
          "base_uri": "https://localhost:8080/",
          "height": 508
        },
        "id": "vftsr_eEtkUJ",
        "outputId": "15b81ace-27fc-47d9-c540-981cae7109e3"
      },
      "source": [
        "sns.set(style='darkgrid')\n",
        "sns.jointplot(splitted_data_pooled[0]['AAL'], splitted_data_pooled[0]['FB'],  kind='hex', color='#2874A6')"
      ],
      "execution_count": 49,
      "outputs": [
        {
          "output_type": "stream",
          "text": [
            "/usr/local/lib/python3.6/dist-packages/seaborn/_decorators.py:43: FutureWarning: Pass the following variables as keyword args: x, y. From version 0.12, the only valid positional argument will be `data`, and passing other arguments without an explicit keyword will result in an error or misinterpretation.\n",
            "  FutureWarning\n"
          ],
          "name": "stderr"
        },
        {
          "output_type": "execute_result",
          "data": {
            "text/plain": [
              "<seaborn.axisgrid.JointGrid at 0x7ff16dc2df60>"
            ]
          },
          "metadata": {
            "tags": []
          },
          "execution_count": 49
        },
        {
          "output_type": "display_data",
          "data": {
            "image/png": "[encoded data removed]",
            "text/plain": [
              "<Figure size 432x432 with 3 Axes>"
            ]
          },
          "metadata": {
            "tags": []
          }
        }
      ]
    },
    {
      "cell_type": "markdown",
      "metadata": {
        "id": "G10BfXNhvzcH"
      },
      "source": [
        "Here I use $coint$, which is effectively the Engle-Granger two-step cointegration test. It tests for the residuals of an estimated cointegrating pairs (2 time series inputs) with I(1). \n",
        "\n",
        "The idea here is linked to a concept in time series analysis called **stationarity**. \n",
        "\n",
        "Strong-Form: Joint distribution same, that is $P(x_1, x_2, ..., x_k) = P(x_{1+h},x_{2+h}, ..., x_{k+h}) \\forall k, h$. This is unrealistic... \n",
        "\n",
        "\n",
        "Weak-Form: more applicable in financial time series with the following criteria:\n",
        "\n",
        "\n",
        "1.   Expected value of random variable x, i.e. E[x(t)], is independent of time t\n",
        "2.   Variance Var(x(t)) is a time-independent positive and finite constant\n",
        "3.   Covariance Cov(x(t),x(s)) is finite and related to the time difference t-s, but neither t nor s\n",
        "\n",
        "If a time series becomes stationary after first differencing, it is so called integrated of order one I(1)."
      ]
    },
    {
      "cell_type": "code",
      "metadata": {
        "id": "I_kXWsf4aFBe"
      },
      "source": [
        "p_values = []\n",
        "for data in splitted_data_pooled:\n",
        "  x = data['AAL']\n",
        "  #print(x)\n",
        "  y = data['FB']\n",
        "  #print(y)\n",
        "  _, p_value, _ = coint(x, y)\n",
        "  p_values.append(p_value)"
      ],
      "execution_count": 28,
      "outputs": []
    },
    {
      "cell_type": "code",
      "metadata": {
        "colab": {
          "base_uri": "https://localhost:8080/",
          "height": 282
        },
        "id": "u0Fgb6EQqEU6",
        "outputId": "9087c435-10c7-4f0c-f5ef-507a09e36926"
      },
      "source": [
        "plt.hist(p_values, color = 'blue', edgecolor = 'black',\n",
        "         bins = 15)\n",
        "print('The p_value of AAL-FB pair cointegration is: {}'.format(np.mean(p_values)))"
      ],
      "execution_count": 29,
      "outputs": [
        {
          "output_type": "stream",
          "text": [
            "The p_value of AAL-FB pair cointegration is: 0.3651267956519031\n"
          ],
          "name": "stdout"
        },
        {
          "output_type": "display_data",
          "data": {
            "image/png": "[encoded data removed]",
            "text/plain": [
              "<Figure size 432x288 with 1 Axes>"
            ]
          },
          "metadata": {
            "tags": [],
            "needs_background": "light"
          }
        }
      ]
    }
  ]
}